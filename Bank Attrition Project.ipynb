{
 "cells": [
  {
   "cell_type": "code",
   "execution_count": 1,
   "id": "27863ec6",
   "metadata": {},
   "outputs": [],
   "source": [
    "import numpy as np \n",
    "import pandas as pd\n",
    "# import visualization libraries\n",
    "import matplotlib.pyplot as plt\n",
    "%matplotlib inline\n",
    "\n",
    "import seaborn as sns\n",
    "sns.set_palette('pastel')"
   ]
  },
  {
   "cell_type": "code",
   "execution_count": 2,
   "id": "eead702e",
   "metadata": {},
   "outputs": [],
   "source": [
    "df = pd.read_csv('E:/4th SEM/Project/BankChurners.csv')"
   ]
  },
  {
   "cell_type": "code",
   "execution_count": 3,
   "id": "b175fa91",
   "metadata": {},
   "outputs": [
    {
     "data": {
      "text/html": [
       "<div>\n",
       "<style scoped>\n",
       "    .dataframe tbody tr th:only-of-type {\n",
       "        vertical-align: middle;\n",
       "    }\n",
       "\n",
       "    .dataframe tbody tr th {\n",
       "        vertical-align: top;\n",
       "    }\n",
       "\n",
       "    .dataframe thead th {\n",
       "        text-align: right;\n",
       "    }\n",
       "</style>\n",
       "<table border=\"1\" class=\"dataframe\">\n",
       "  <thead>\n",
       "    <tr style=\"text-align: right;\">\n",
       "      <th></th>\n",
       "      <th>CLIENTNUM</th>\n",
       "      <th>Attrition_Flag</th>\n",
       "      <th>Customer_Age</th>\n",
       "      <th>Gender</th>\n",
       "      <th>Dependent_count</th>\n",
       "      <th>Education_Level</th>\n",
       "      <th>Marital_Status</th>\n",
       "      <th>Income_Category</th>\n",
       "      <th>Card_Category</th>\n",
       "      <th>Months_on_book</th>\n",
       "      <th>...</th>\n",
       "      <th>Months_Inactive_12_mon</th>\n",
       "      <th>Contacts_Count_12_mon</th>\n",
       "      <th>Credit_Limit</th>\n",
       "      <th>Total_Revolving_Bal</th>\n",
       "      <th>Avg_Open_To_Buy</th>\n",
       "      <th>Total_Amt_Chng_Q4_Q1</th>\n",
       "      <th>Total_Trans_Amt</th>\n",
       "      <th>Total_Trans_Ct</th>\n",
       "      <th>Total_Ct_Chng_Q4_Q1</th>\n",
       "      <th>Avg_Utilization_Ratio</th>\n",
       "    </tr>\n",
       "  </thead>\n",
       "  <tbody>\n",
       "    <tr>\n",
       "      <th>0</th>\n",
       "      <td>768805383</td>\n",
       "      <td>Existing Customer</td>\n",
       "      <td>45</td>\n",
       "      <td>M</td>\n",
       "      <td>3</td>\n",
       "      <td>High School</td>\n",
       "      <td>Married</td>\n",
       "      <td>$60K - $80K</td>\n",
       "      <td>Blue</td>\n",
       "      <td>39</td>\n",
       "      <td>...</td>\n",
       "      <td>1</td>\n",
       "      <td>3</td>\n",
       "      <td>12691.0</td>\n",
       "      <td>777</td>\n",
       "      <td>11914.0</td>\n",
       "      <td>1.335</td>\n",
       "      <td>1144</td>\n",
       "      <td>42</td>\n",
       "      <td>1.625</td>\n",
       "      <td>0.061</td>\n",
       "    </tr>\n",
       "    <tr>\n",
       "      <th>1</th>\n",
       "      <td>818770008</td>\n",
       "      <td>Existing Customer</td>\n",
       "      <td>49</td>\n",
       "      <td>F</td>\n",
       "      <td>5</td>\n",
       "      <td>Graduate</td>\n",
       "      <td>Single</td>\n",
       "      <td>Less than $40K</td>\n",
       "      <td>Blue</td>\n",
       "      <td>44</td>\n",
       "      <td>...</td>\n",
       "      <td>1</td>\n",
       "      <td>2</td>\n",
       "      <td>8256.0</td>\n",
       "      <td>864</td>\n",
       "      <td>7392.0</td>\n",
       "      <td>1.541</td>\n",
       "      <td>1291</td>\n",
       "      <td>33</td>\n",
       "      <td>3.714</td>\n",
       "      <td>0.105</td>\n",
       "    </tr>\n",
       "    <tr>\n",
       "      <th>2</th>\n",
       "      <td>713982108</td>\n",
       "      <td>Existing Customer</td>\n",
       "      <td>51</td>\n",
       "      <td>M</td>\n",
       "      <td>3</td>\n",
       "      <td>Graduate</td>\n",
       "      <td>Married</td>\n",
       "      <td>$80K - $120K</td>\n",
       "      <td>Blue</td>\n",
       "      <td>36</td>\n",
       "      <td>...</td>\n",
       "      <td>1</td>\n",
       "      <td>0</td>\n",
       "      <td>3418.0</td>\n",
       "      <td>0</td>\n",
       "      <td>3418.0</td>\n",
       "      <td>2.594</td>\n",
       "      <td>1887</td>\n",
       "      <td>20</td>\n",
       "      <td>2.333</td>\n",
       "      <td>0.000</td>\n",
       "    </tr>\n",
       "    <tr>\n",
       "      <th>3</th>\n",
       "      <td>769911858</td>\n",
       "      <td>Existing Customer</td>\n",
       "      <td>40</td>\n",
       "      <td>F</td>\n",
       "      <td>4</td>\n",
       "      <td>High School</td>\n",
       "      <td>Unknown</td>\n",
       "      <td>Less than $40K</td>\n",
       "      <td>Blue</td>\n",
       "      <td>34</td>\n",
       "      <td>...</td>\n",
       "      <td>4</td>\n",
       "      <td>1</td>\n",
       "      <td>3313.0</td>\n",
       "      <td>2517</td>\n",
       "      <td>796.0</td>\n",
       "      <td>1.405</td>\n",
       "      <td>1171</td>\n",
       "      <td>20</td>\n",
       "      <td>2.333</td>\n",
       "      <td>0.760</td>\n",
       "    </tr>\n",
       "    <tr>\n",
       "      <th>4</th>\n",
       "      <td>709106358</td>\n",
       "      <td>Existing Customer</td>\n",
       "      <td>40</td>\n",
       "      <td>M</td>\n",
       "      <td>3</td>\n",
       "      <td>Uneducated</td>\n",
       "      <td>Married</td>\n",
       "      <td>$60K - $80K</td>\n",
       "      <td>Blue</td>\n",
       "      <td>21</td>\n",
       "      <td>...</td>\n",
       "      <td>1</td>\n",
       "      <td>0</td>\n",
       "      <td>4716.0</td>\n",
       "      <td>0</td>\n",
       "      <td>4716.0</td>\n",
       "      <td>2.175</td>\n",
       "      <td>816</td>\n",
       "      <td>28</td>\n",
       "      <td>2.500</td>\n",
       "      <td>0.000</td>\n",
       "    </tr>\n",
       "    <tr>\n",
       "      <th>5</th>\n",
       "      <td>713061558</td>\n",
       "      <td>Existing Customer</td>\n",
       "      <td>44</td>\n",
       "      <td>M</td>\n",
       "      <td>2</td>\n",
       "      <td>Graduate</td>\n",
       "      <td>Married</td>\n",
       "      <td>$40K - $60K</td>\n",
       "      <td>Blue</td>\n",
       "      <td>36</td>\n",
       "      <td>...</td>\n",
       "      <td>1</td>\n",
       "      <td>2</td>\n",
       "      <td>4010.0</td>\n",
       "      <td>1247</td>\n",
       "      <td>2763.0</td>\n",
       "      <td>1.376</td>\n",
       "      <td>1088</td>\n",
       "      <td>24</td>\n",
       "      <td>0.846</td>\n",
       "      <td>0.311</td>\n",
       "    </tr>\n",
       "    <tr>\n",
       "      <th>6</th>\n",
       "      <td>810347208</td>\n",
       "      <td>Existing Customer</td>\n",
       "      <td>51</td>\n",
       "      <td>M</td>\n",
       "      <td>4</td>\n",
       "      <td>Unknown</td>\n",
       "      <td>Married</td>\n",
       "      <td>$120K +</td>\n",
       "      <td>Gold</td>\n",
       "      <td>46</td>\n",
       "      <td>...</td>\n",
       "      <td>1</td>\n",
       "      <td>3</td>\n",
       "      <td>34516.0</td>\n",
       "      <td>2264</td>\n",
       "      <td>32252.0</td>\n",
       "      <td>1.975</td>\n",
       "      <td>1330</td>\n",
       "      <td>31</td>\n",
       "      <td>0.722</td>\n",
       "      <td>0.066</td>\n",
       "    </tr>\n",
       "    <tr>\n",
       "      <th>7</th>\n",
       "      <td>818906208</td>\n",
       "      <td>Existing Customer</td>\n",
       "      <td>32</td>\n",
       "      <td>M</td>\n",
       "      <td>0</td>\n",
       "      <td>High School</td>\n",
       "      <td>Unknown</td>\n",
       "      <td>$60K - $80K</td>\n",
       "      <td>Silver</td>\n",
       "      <td>27</td>\n",
       "      <td>...</td>\n",
       "      <td>2</td>\n",
       "      <td>2</td>\n",
       "      <td>29081.0</td>\n",
       "      <td>1396</td>\n",
       "      <td>27685.0</td>\n",
       "      <td>2.204</td>\n",
       "      <td>1538</td>\n",
       "      <td>36</td>\n",
       "      <td>0.714</td>\n",
       "      <td>0.048</td>\n",
       "    </tr>\n",
       "    <tr>\n",
       "      <th>8</th>\n",
       "      <td>710930508</td>\n",
       "      <td>Existing Customer</td>\n",
       "      <td>37</td>\n",
       "      <td>M</td>\n",
       "      <td>3</td>\n",
       "      <td>Uneducated</td>\n",
       "      <td>Single</td>\n",
       "      <td>$60K - $80K</td>\n",
       "      <td>Blue</td>\n",
       "      <td>36</td>\n",
       "      <td>...</td>\n",
       "      <td>2</td>\n",
       "      <td>0</td>\n",
       "      <td>22352.0</td>\n",
       "      <td>2517</td>\n",
       "      <td>19835.0</td>\n",
       "      <td>3.355</td>\n",
       "      <td>1350</td>\n",
       "      <td>24</td>\n",
       "      <td>1.182</td>\n",
       "      <td>0.113</td>\n",
       "    </tr>\n",
       "    <tr>\n",
       "      <th>9</th>\n",
       "      <td>719661558</td>\n",
       "      <td>Existing Customer</td>\n",
       "      <td>48</td>\n",
       "      <td>M</td>\n",
       "      <td>2</td>\n",
       "      <td>Graduate</td>\n",
       "      <td>Single</td>\n",
       "      <td>$80K - $120K</td>\n",
       "      <td>Blue</td>\n",
       "      <td>36</td>\n",
       "      <td>...</td>\n",
       "      <td>3</td>\n",
       "      <td>3</td>\n",
       "      <td>11656.0</td>\n",
       "      <td>1677</td>\n",
       "      <td>9979.0</td>\n",
       "      <td>1.524</td>\n",
       "      <td>1441</td>\n",
       "      <td>32</td>\n",
       "      <td>0.882</td>\n",
       "      <td>0.144</td>\n",
       "    </tr>\n",
       "    <tr>\n",
       "      <th>10</th>\n",
       "      <td>708790833</td>\n",
       "      <td>Existing Customer</td>\n",
       "      <td>42</td>\n",
       "      <td>M</td>\n",
       "      <td>5</td>\n",
       "      <td>Uneducated</td>\n",
       "      <td>Unknown</td>\n",
       "      <td>$120K +</td>\n",
       "      <td>Blue</td>\n",
       "      <td>31</td>\n",
       "      <td>...</td>\n",
       "      <td>3</td>\n",
       "      <td>2</td>\n",
       "      <td>6748.0</td>\n",
       "      <td>1467</td>\n",
       "      <td>5281.0</td>\n",
       "      <td>0.831</td>\n",
       "      <td>1201</td>\n",
       "      <td>42</td>\n",
       "      <td>0.680</td>\n",
       "      <td>0.217</td>\n",
       "    </tr>\n",
       "    <tr>\n",
       "      <th>11</th>\n",
       "      <td>710821833</td>\n",
       "      <td>Existing Customer</td>\n",
       "      <td>65</td>\n",
       "      <td>M</td>\n",
       "      <td>1</td>\n",
       "      <td>Unknown</td>\n",
       "      <td>Married</td>\n",
       "      <td>$40K - $60K</td>\n",
       "      <td>Blue</td>\n",
       "      <td>54</td>\n",
       "      <td>...</td>\n",
       "      <td>2</td>\n",
       "      <td>3</td>\n",
       "      <td>9095.0</td>\n",
       "      <td>1587</td>\n",
       "      <td>7508.0</td>\n",
       "      <td>1.433</td>\n",
       "      <td>1314</td>\n",
       "      <td>26</td>\n",
       "      <td>1.364</td>\n",
       "      <td>0.174</td>\n",
       "    </tr>\n",
       "    <tr>\n",
       "      <th>12</th>\n",
       "      <td>710599683</td>\n",
       "      <td>Existing Customer</td>\n",
       "      <td>56</td>\n",
       "      <td>M</td>\n",
       "      <td>1</td>\n",
       "      <td>College</td>\n",
       "      <td>Single</td>\n",
       "      <td>$80K - $120K</td>\n",
       "      <td>Blue</td>\n",
       "      <td>36</td>\n",
       "      <td>...</td>\n",
       "      <td>6</td>\n",
       "      <td>0</td>\n",
       "      <td>11751.0</td>\n",
       "      <td>0</td>\n",
       "      <td>11751.0</td>\n",
       "      <td>3.397</td>\n",
       "      <td>1539</td>\n",
       "      <td>17</td>\n",
       "      <td>3.250</td>\n",
       "      <td>0.000</td>\n",
       "    </tr>\n",
       "    <tr>\n",
       "      <th>13</th>\n",
       "      <td>816082233</td>\n",
       "      <td>Existing Customer</td>\n",
       "      <td>35</td>\n",
       "      <td>M</td>\n",
       "      <td>3</td>\n",
       "      <td>Graduate</td>\n",
       "      <td>Unknown</td>\n",
       "      <td>$60K - $80K</td>\n",
       "      <td>Blue</td>\n",
       "      <td>30</td>\n",
       "      <td>...</td>\n",
       "      <td>1</td>\n",
       "      <td>3</td>\n",
       "      <td>8547.0</td>\n",
       "      <td>1666</td>\n",
       "      <td>6881.0</td>\n",
       "      <td>1.163</td>\n",
       "      <td>1311</td>\n",
       "      <td>33</td>\n",
       "      <td>2.000</td>\n",
       "      <td>0.195</td>\n",
       "    </tr>\n",
       "    <tr>\n",
       "      <th>14</th>\n",
       "      <td>712396908</td>\n",
       "      <td>Existing Customer</td>\n",
       "      <td>57</td>\n",
       "      <td>F</td>\n",
       "      <td>2</td>\n",
       "      <td>Graduate</td>\n",
       "      <td>Married</td>\n",
       "      <td>Less than $40K</td>\n",
       "      <td>Blue</td>\n",
       "      <td>48</td>\n",
       "      <td>...</td>\n",
       "      <td>2</td>\n",
       "      <td>2</td>\n",
       "      <td>2436.0</td>\n",
       "      <td>680</td>\n",
       "      <td>1756.0</td>\n",
       "      <td>1.190</td>\n",
       "      <td>1570</td>\n",
       "      <td>29</td>\n",
       "      <td>0.611</td>\n",
       "      <td>0.279</td>\n",
       "    </tr>\n",
       "    <tr>\n",
       "      <th>15</th>\n",
       "      <td>714885258</td>\n",
       "      <td>Existing Customer</td>\n",
       "      <td>44</td>\n",
       "      <td>M</td>\n",
       "      <td>4</td>\n",
       "      <td>Unknown</td>\n",
       "      <td>Unknown</td>\n",
       "      <td>$80K - $120K</td>\n",
       "      <td>Blue</td>\n",
       "      <td>37</td>\n",
       "      <td>...</td>\n",
       "      <td>1</td>\n",
       "      <td>2</td>\n",
       "      <td>4234.0</td>\n",
       "      <td>972</td>\n",
       "      <td>3262.0</td>\n",
       "      <td>1.707</td>\n",
       "      <td>1348</td>\n",
       "      <td>27</td>\n",
       "      <td>1.700</td>\n",
       "      <td>0.230</td>\n",
       "    </tr>\n",
       "    <tr>\n",
       "      <th>16</th>\n",
       "      <td>709967358</td>\n",
       "      <td>Existing Customer</td>\n",
       "      <td>48</td>\n",
       "      <td>M</td>\n",
       "      <td>4</td>\n",
       "      <td>Post-Graduate</td>\n",
       "      <td>Single</td>\n",
       "      <td>$80K - $120K</td>\n",
       "      <td>Blue</td>\n",
       "      <td>36</td>\n",
       "      <td>...</td>\n",
       "      <td>2</td>\n",
       "      <td>3</td>\n",
       "      <td>30367.0</td>\n",
       "      <td>2362</td>\n",
       "      <td>28005.0</td>\n",
       "      <td>1.708</td>\n",
       "      <td>1671</td>\n",
       "      <td>27</td>\n",
       "      <td>0.929</td>\n",
       "      <td>0.078</td>\n",
       "    </tr>\n",
       "    <tr>\n",
       "      <th>17</th>\n",
       "      <td>753327333</td>\n",
       "      <td>Existing Customer</td>\n",
       "      <td>41</td>\n",
       "      <td>M</td>\n",
       "      <td>3</td>\n",
       "      <td>Unknown</td>\n",
       "      <td>Married</td>\n",
       "      <td>$80K - $120K</td>\n",
       "      <td>Blue</td>\n",
       "      <td>34</td>\n",
       "      <td>...</td>\n",
       "      <td>4</td>\n",
       "      <td>1</td>\n",
       "      <td>13535.0</td>\n",
       "      <td>1291</td>\n",
       "      <td>12244.0</td>\n",
       "      <td>0.653</td>\n",
       "      <td>1028</td>\n",
       "      <td>21</td>\n",
       "      <td>1.625</td>\n",
       "      <td>0.095</td>\n",
       "    </tr>\n",
       "    <tr>\n",
       "      <th>18</th>\n",
       "      <td>806160108</td>\n",
       "      <td>Existing Customer</td>\n",
       "      <td>61</td>\n",
       "      <td>M</td>\n",
       "      <td>1</td>\n",
       "      <td>High School</td>\n",
       "      <td>Married</td>\n",
       "      <td>$40K - $60K</td>\n",
       "      <td>Blue</td>\n",
       "      <td>56</td>\n",
       "      <td>...</td>\n",
       "      <td>2</td>\n",
       "      <td>3</td>\n",
       "      <td>3193.0</td>\n",
       "      <td>2517</td>\n",
       "      <td>676.0</td>\n",
       "      <td>1.831</td>\n",
       "      <td>1336</td>\n",
       "      <td>30</td>\n",
       "      <td>1.143</td>\n",
       "      <td>0.788</td>\n",
       "    </tr>\n",
       "    <tr>\n",
       "      <th>19</th>\n",
       "      <td>709327383</td>\n",
       "      <td>Existing Customer</td>\n",
       "      <td>45</td>\n",
       "      <td>F</td>\n",
       "      <td>2</td>\n",
       "      <td>Graduate</td>\n",
       "      <td>Married</td>\n",
       "      <td>Unknown</td>\n",
       "      <td>Blue</td>\n",
       "      <td>37</td>\n",
       "      <td>...</td>\n",
       "      <td>1</td>\n",
       "      <td>2</td>\n",
       "      <td>14470.0</td>\n",
       "      <td>1157</td>\n",
       "      <td>13313.0</td>\n",
       "      <td>0.966</td>\n",
       "      <td>1207</td>\n",
       "      <td>21</td>\n",
       "      <td>0.909</td>\n",
       "      <td>0.080</td>\n",
       "    </tr>\n",
       "  </tbody>\n",
       "</table>\n",
       "<p>20 rows × 21 columns</p>\n",
       "</div>"
      ],
      "text/plain": [
       "    CLIENTNUM     Attrition_Flag  Customer_Age Gender  Dependent_count  \\\n",
       "0   768805383  Existing Customer            45      M                3   \n",
       "1   818770008  Existing Customer            49      F                5   \n",
       "2   713982108  Existing Customer            51      M                3   \n",
       "3   769911858  Existing Customer            40      F                4   \n",
       "4   709106358  Existing Customer            40      M                3   \n",
       "5   713061558  Existing Customer            44      M                2   \n",
       "6   810347208  Existing Customer            51      M                4   \n",
       "7   818906208  Existing Customer            32      M                0   \n",
       "8   710930508  Existing Customer            37      M                3   \n",
       "9   719661558  Existing Customer            48      M                2   \n",
       "10  708790833  Existing Customer            42      M                5   \n",
       "11  710821833  Existing Customer            65      M                1   \n",
       "12  710599683  Existing Customer            56      M                1   \n",
       "13  816082233  Existing Customer            35      M                3   \n",
       "14  712396908  Existing Customer            57      F                2   \n",
       "15  714885258  Existing Customer            44      M                4   \n",
       "16  709967358  Existing Customer            48      M                4   \n",
       "17  753327333  Existing Customer            41      M                3   \n",
       "18  806160108  Existing Customer            61      M                1   \n",
       "19  709327383  Existing Customer            45      F                2   \n",
       "\n",
       "   Education_Level Marital_Status Income_Category Card_Category  \\\n",
       "0      High School        Married     $60K - $80K          Blue   \n",
       "1         Graduate         Single  Less than $40K          Blue   \n",
       "2         Graduate        Married    $80K - $120K          Blue   \n",
       "3      High School        Unknown  Less than $40K          Blue   \n",
       "4       Uneducated        Married     $60K - $80K          Blue   \n",
       "5         Graduate        Married     $40K - $60K          Blue   \n",
       "6          Unknown        Married         $120K +          Gold   \n",
       "7      High School        Unknown     $60K - $80K        Silver   \n",
       "8       Uneducated         Single     $60K - $80K          Blue   \n",
       "9         Graduate         Single    $80K - $120K          Blue   \n",
       "10      Uneducated        Unknown         $120K +          Blue   \n",
       "11         Unknown        Married     $40K - $60K          Blue   \n",
       "12         College         Single    $80K - $120K          Blue   \n",
       "13        Graduate        Unknown     $60K - $80K          Blue   \n",
       "14        Graduate        Married  Less than $40K          Blue   \n",
       "15         Unknown        Unknown    $80K - $120K          Blue   \n",
       "16   Post-Graduate         Single    $80K - $120K          Blue   \n",
       "17         Unknown        Married    $80K - $120K          Blue   \n",
       "18     High School        Married     $40K - $60K          Blue   \n",
       "19        Graduate        Married         Unknown          Blue   \n",
       "\n",
       "    Months_on_book  ...  Months_Inactive_12_mon  Contacts_Count_12_mon  \\\n",
       "0               39  ...                       1                      3   \n",
       "1               44  ...                       1                      2   \n",
       "2               36  ...                       1                      0   \n",
       "3               34  ...                       4                      1   \n",
       "4               21  ...                       1                      0   \n",
       "5               36  ...                       1                      2   \n",
       "6               46  ...                       1                      3   \n",
       "7               27  ...                       2                      2   \n",
       "8               36  ...                       2                      0   \n",
       "9               36  ...                       3                      3   \n",
       "10              31  ...                       3                      2   \n",
       "11              54  ...                       2                      3   \n",
       "12              36  ...                       6                      0   \n",
       "13              30  ...                       1                      3   \n",
       "14              48  ...                       2                      2   \n",
       "15              37  ...                       1                      2   \n",
       "16              36  ...                       2                      3   \n",
       "17              34  ...                       4                      1   \n",
       "18              56  ...                       2                      3   \n",
       "19              37  ...                       1                      2   \n",
       "\n",
       "    Credit_Limit  Total_Revolving_Bal  Avg_Open_To_Buy  Total_Amt_Chng_Q4_Q1  \\\n",
       "0        12691.0                  777          11914.0                 1.335   \n",
       "1         8256.0                  864           7392.0                 1.541   \n",
       "2         3418.0                    0           3418.0                 2.594   \n",
       "3         3313.0                 2517            796.0                 1.405   \n",
       "4         4716.0                    0           4716.0                 2.175   \n",
       "5         4010.0                 1247           2763.0                 1.376   \n",
       "6        34516.0                 2264          32252.0                 1.975   \n",
       "7        29081.0                 1396          27685.0                 2.204   \n",
       "8        22352.0                 2517          19835.0                 3.355   \n",
       "9        11656.0                 1677           9979.0                 1.524   \n",
       "10        6748.0                 1467           5281.0                 0.831   \n",
       "11        9095.0                 1587           7508.0                 1.433   \n",
       "12       11751.0                    0          11751.0                 3.397   \n",
       "13        8547.0                 1666           6881.0                 1.163   \n",
       "14        2436.0                  680           1756.0                 1.190   \n",
       "15        4234.0                  972           3262.0                 1.707   \n",
       "16       30367.0                 2362          28005.0                 1.708   \n",
       "17       13535.0                 1291          12244.0                 0.653   \n",
       "18        3193.0                 2517            676.0                 1.831   \n",
       "19       14470.0                 1157          13313.0                 0.966   \n",
       "\n",
       "    Total_Trans_Amt  Total_Trans_Ct  Total_Ct_Chng_Q4_Q1  \\\n",
       "0              1144              42                1.625   \n",
       "1              1291              33                3.714   \n",
       "2              1887              20                2.333   \n",
       "3              1171              20                2.333   \n",
       "4               816              28                2.500   \n",
       "5              1088              24                0.846   \n",
       "6              1330              31                0.722   \n",
       "7              1538              36                0.714   \n",
       "8              1350              24                1.182   \n",
       "9              1441              32                0.882   \n",
       "10             1201              42                0.680   \n",
       "11             1314              26                1.364   \n",
       "12             1539              17                3.250   \n",
       "13             1311              33                2.000   \n",
       "14             1570              29                0.611   \n",
       "15             1348              27                1.700   \n",
       "16             1671              27                0.929   \n",
       "17             1028              21                1.625   \n",
       "18             1336              30                1.143   \n",
       "19             1207              21                0.909   \n",
       "\n",
       "    Avg_Utilization_Ratio  \n",
       "0                   0.061  \n",
       "1                   0.105  \n",
       "2                   0.000  \n",
       "3                   0.760  \n",
       "4                   0.000  \n",
       "5                   0.311  \n",
       "6                   0.066  \n",
       "7                   0.048  \n",
       "8                   0.113  \n",
       "9                   0.144  \n",
       "10                  0.217  \n",
       "11                  0.174  \n",
       "12                  0.000  \n",
       "13                  0.195  \n",
       "14                  0.279  \n",
       "15                  0.230  \n",
       "16                  0.078  \n",
       "17                  0.095  \n",
       "18                  0.788  \n",
       "19                  0.080  \n",
       "\n",
       "[20 rows x 21 columns]"
      ]
     },
     "execution_count": 3,
     "metadata": {},
     "output_type": "execute_result"
    }
   ],
   "source": [
    "df.head(20)"
   ]
  },
  {
   "cell_type": "code",
   "execution_count": 4,
   "id": "5b35aec8",
   "metadata": {},
   "outputs": [
    {
     "name": "stdout",
     "output_type": "stream",
     "text": [
      "Married     4687\n",
      "Single      3943\n",
      "Unknown      749\n",
      "Divorced     748\n",
      "Name: Marital_Status, dtype: int64\n"
     ]
    }
   ],
   "source": [
    "print(df.Marital_Status.value_counts())"
   ]
  },
  {
   "cell_type": "code",
   "execution_count": 5,
   "id": "49abf53d",
   "metadata": {},
   "outputs": [
    {
     "name": "stdout",
     "output_type": "stream",
     "text": [
      "<class 'pandas.core.frame.DataFrame'>\n",
      "RangeIndex: 10127 entries, 0 to 10126\n",
      "Data columns (total 21 columns):\n",
      " #   Column                    Non-Null Count  Dtype  \n",
      "---  ------                    --------------  -----  \n",
      " 0   CLIENTNUM                 10127 non-null  int64  \n",
      " 1   Attrition_Flag            10127 non-null  object \n",
      " 2   Customer_Age              10127 non-null  int64  \n",
      " 3   Gender                    10127 non-null  object \n",
      " 4   Dependent_count           10127 non-null  int64  \n",
      " 5   Education_Level           10127 non-null  object \n",
      " 6   Marital_Status            10127 non-null  object \n",
      " 7   Income_Category           10127 non-null  object \n",
      " 8   Card_Category             10127 non-null  object \n",
      " 9   Months_on_book            10127 non-null  int64  \n",
      " 10  Total_Relationship_Count  10127 non-null  int64  \n",
      " 11  Months_Inactive_12_mon    10127 non-null  int64  \n",
      " 12  Contacts_Count_12_mon     10127 non-null  int64  \n",
      " 13  Credit_Limit              10127 non-null  float64\n",
      " 14  Total_Revolving_Bal       10127 non-null  int64  \n",
      " 15  Avg_Open_To_Buy           10127 non-null  float64\n",
      " 16  Total_Amt_Chng_Q4_Q1      10127 non-null  float64\n",
      " 17  Total_Trans_Amt           10127 non-null  int64  \n",
      " 18  Total_Trans_Ct            10127 non-null  int64  \n",
      " 19  Total_Ct_Chng_Q4_Q1       10127 non-null  float64\n",
      " 20  Avg_Utilization_Ratio     10127 non-null  float64\n",
      "dtypes: float64(5), int64(10), object(6)\n",
      "memory usage: 1.6+ MB\n"
     ]
    }
   ],
   "source": [
    "# see dataset info\n",
    "df.info()"
   ]
  },
  {
   "cell_type": "code",
   "execution_count": 6,
   "id": "a452061e",
   "metadata": {},
   "outputs": [
    {
     "name": "stdout",
     "output_type": "stream",
     "text": [
      "768805383    1\n",
      "711784908    1\n",
      "720133908    1\n",
      "803197833    1\n",
      "812222208    1\n",
      "            ..\n",
      "796903083    1\n",
      "716014983    1\n",
      "712521783    1\n",
      "780045708    1\n",
      "714337233    1\n",
      "Name: CLIENTNUM, Length: 10127, dtype: int64 \n",
      "==============\n",
      "\n",
      "Existing Customer    8500\n",
      "Attrited Customer    1627\n",
      "Name: Attrition_Flag, dtype: int64 \n",
      "==============\n",
      "\n",
      "44    500\n",
      "49    495\n",
      "46    490\n",
      "45    486\n",
      "47    479\n",
      "43    473\n",
      "48    472\n",
      "50    452\n",
      "42    426\n",
      "51    398\n",
      "53    387\n",
      "41    379\n",
      "52    376\n",
      "40    361\n",
      "39    333\n",
      "54    307\n",
      "38    303\n",
      "55    279\n",
      "56    262\n",
      "37    260\n",
      "57    223\n",
      "36    221\n",
      "35    184\n",
      "59    157\n",
      "58    157\n",
      "34    146\n",
      "33    127\n",
      "60    127\n",
      "32    106\n",
      "65    101\n",
      "61     93\n",
      "62     93\n",
      "31     91\n",
      "26     78\n",
      "30     70\n",
      "63     65\n",
      "29     56\n",
      "64     43\n",
      "27     32\n",
      "28     29\n",
      "67      4\n",
      "66      2\n",
      "68      2\n",
      "70      1\n",
      "73      1\n",
      "Name: Customer_Age, dtype: int64 \n",
      "==============\n",
      "\n",
      "F    5358\n",
      "M    4769\n",
      "Name: Gender, dtype: int64 \n",
      "==============\n",
      "\n",
      "3    2732\n",
      "2    2655\n",
      "1    1838\n",
      "4    1574\n",
      "0     904\n",
      "5     424\n",
      "Name: Dependent_count, dtype: int64 \n",
      "==============\n",
      "\n",
      "Graduate         3128\n",
      "High School      2013\n",
      "Unknown          1519\n",
      "Uneducated       1487\n",
      "College          1013\n",
      "Post-Graduate     516\n",
      "Doctorate         451\n",
      "Name: Education_Level, dtype: int64 \n",
      "==============\n",
      "\n",
      "Married     4687\n",
      "Single      3943\n",
      "Unknown      749\n",
      "Divorced     748\n",
      "Name: Marital_Status, dtype: int64 \n",
      "==============\n",
      "\n",
      "Less than $40K    3561\n",
      "$40K - $60K       1790\n",
      "$80K - $120K      1535\n",
      "$60K - $80K       1402\n",
      "Unknown           1112\n",
      "$120K +            727\n",
      "Name: Income_Category, dtype: int64 \n",
      "==============\n",
      "\n",
      "Blue        9436\n",
      "Silver       555\n",
      "Gold         116\n",
      "Platinum      20\n",
      "Name: Card_Category, dtype: int64 \n",
      "==============\n",
      "\n",
      "36    2463\n",
      "37     358\n",
      "34     353\n",
      "38     347\n",
      "39     341\n",
      "40     333\n",
      "31     318\n",
      "35     317\n",
      "33     305\n",
      "30     300\n",
      "41     297\n",
      "32     289\n",
      "28     275\n",
      "43     273\n",
      "42     271\n",
      "29     241\n",
      "44     230\n",
      "45     227\n",
      "27     206\n",
      "46     197\n",
      "26     186\n",
      "47     171\n",
      "25     165\n",
      "48     162\n",
      "24     160\n",
      "49     141\n",
      "23     116\n",
      "22     105\n",
      "56     103\n",
      "50      96\n",
      "21      83\n",
      "51      80\n",
      "53      78\n",
      "20      74\n",
      "13      70\n",
      "19      63\n",
      "52      62\n",
      "18      58\n",
      "54      53\n",
      "55      42\n",
      "17      39\n",
      "15      34\n",
      "16      29\n",
      "14      16\n",
      "Name: Months_on_book, dtype: int64 \n",
      "==============\n",
      "\n",
      "3    2305\n",
      "4    1912\n",
      "5    1891\n",
      "6    1866\n",
      "2    1243\n",
      "1     910\n",
      "Name: Total_Relationship_Count, dtype: int64 \n",
      "==============\n",
      "\n",
      "3    3846\n",
      "2    3282\n",
      "1    2233\n",
      "4     435\n",
      "5     178\n",
      "6     124\n",
      "0      29\n",
      "Name: Months_Inactive_12_mon, dtype: int64 \n",
      "==============\n",
      "\n",
      "3    3380\n",
      "2    3227\n",
      "1    1499\n",
      "4    1392\n",
      "0     399\n",
      "5     176\n",
      "6      54\n",
      "Name: Contacts_Count_12_mon, dtype: int64 \n",
      "==============\n",
      "\n",
      "34516.0    508\n",
      "1438.3     507\n",
      "9959.0      18\n",
      "15987.0     18\n",
      "23981.0     12\n",
      "          ... \n",
      "9183.0       1\n",
      "29923.0      1\n",
      "9551.0       1\n",
      "11558.0      1\n",
      "10388.0      1\n",
      "Name: Credit_Limit, Length: 6205, dtype: int64 \n",
      "==============\n",
      "\n",
      "0       2470\n",
      "2517     508\n",
      "1965      12\n",
      "1480      12\n",
      "1434      11\n",
      "        ... \n",
      "2467       1\n",
      "2131       1\n",
      "2400       1\n",
      "2144       1\n",
      "2241       1\n",
      "Name: Total_Revolving_Bal, Length: 1974, dtype: int64 \n",
      "==============\n",
      "\n",
      "1438.3     324\n",
      "34516.0     98\n",
      "31999.0     26\n",
      "787.0        8\n",
      "701.0        7\n",
      "          ... \n",
      "6543.0       1\n",
      "2808.0       1\n",
      "21549.0      1\n",
      "6189.0       1\n",
      "8427.0       1\n",
      "Name: Avg_Open_To_Buy, Length: 6813, dtype: int64 \n",
      "==============\n",
      "\n",
      "0.791    36\n",
      "0.712    34\n",
      "0.743    34\n",
      "0.718    33\n",
      "0.735    33\n",
      "         ..\n",
      "1.216     1\n",
      "1.645     1\n",
      "1.089     1\n",
      "2.103     1\n",
      "0.166     1\n",
      "Name: Total_Amt_Chng_Q4_Q1, Length: 1158, dtype: int64 \n",
      "==============\n",
      "\n",
      "4253     11\n",
      "4509     11\n",
      "4518     10\n",
      "2229     10\n",
      "4220      9\n",
      "         ..\n",
      "1274      1\n",
      "4521      1\n",
      "3231      1\n",
      "4394      1\n",
      "10294     1\n",
      "Name: Total_Trans_Amt, Length: 5033, dtype: int64 \n",
      "==============\n",
      "\n",
      "81     208\n",
      "71     203\n",
      "75     203\n",
      "69     202\n",
      "82     202\n",
      "      ... \n",
      "11       2\n",
      "134      1\n",
      "139      1\n",
      "138      1\n",
      "132      1\n",
      "Name: Total_Trans_Ct, Length: 126, dtype: int64 \n",
      "==============\n",
      "\n",
      "0.667    171\n",
      "1.000    166\n",
      "0.500    161\n",
      "0.750    156\n",
      "0.600    113\n",
      "        ... \n",
      "0.827      1\n",
      "0.343      1\n",
      "1.579      1\n",
      "0.125      1\n",
      "0.359      1\n",
      "Name: Total_Ct_Chng_Q4_Q1, Length: 830, dtype: int64 \n",
      "==============\n",
      "\n",
      "0.000    2470\n",
      "0.073      44\n",
      "0.057      33\n",
      "0.048      32\n",
      "0.060      30\n",
      "         ... \n",
      "0.927       1\n",
      "0.935       1\n",
      "0.954       1\n",
      "0.385       1\n",
      "0.009       1\n",
      "Name: Avg_Utilization_Ratio, Length: 964, dtype: int64 \n",
      "==============\n",
      "\n"
     ]
    }
   ],
   "source": [
    "#find unique values for each columns\n",
    "for col in df:\n",
    "    uniq = df[col].value_counts()\n",
    "    print(uniq, '\\n==============\\n')"
   ]
  },
  {
   "cell_type": "code",
   "execution_count": 7,
   "id": "53c197e2",
   "metadata": {},
   "outputs": [
    {
     "name": "stdout",
     "output_type": "stream",
     "text": [
      "<class 'pandas.core.frame.DataFrame'>\n",
      "RangeIndex: 10127 entries, 0 to 10126\n",
      "Data columns (total 20 columns):\n",
      " #   Column                    Non-Null Count  Dtype  \n",
      "---  ------                    --------------  -----  \n",
      " 0   Attrition_Flag            10127 non-null  object \n",
      " 1   Customer_Age              10127 non-null  int64  \n",
      " 2   Gender                    10127 non-null  object \n",
      " 3   Dependent_count           10127 non-null  int64  \n",
      " 4   Education_Level           10127 non-null  object \n",
      " 5   Marital_Status            10127 non-null  object \n",
      " 6   Income_Category           10127 non-null  object \n",
      " 7   Card_Category             10127 non-null  object \n",
      " 8   Months_on_book            10127 non-null  int64  \n",
      " 9   Total_Relationship_Count  10127 non-null  int64  \n",
      " 10  Months_Inactive_12_mon    10127 non-null  int64  \n",
      " 11  Contacts_Count_12_mon     10127 non-null  int64  \n",
      " 12  Credit_Limit              10127 non-null  float64\n",
      " 13  Total_Revolving_Bal       10127 non-null  int64  \n",
      " 14  Avg_Open_To_Buy           10127 non-null  float64\n",
      " 15  Total_Amt_Chng_Q4_Q1      10127 non-null  float64\n",
      " 16  Total_Trans_Amt           10127 non-null  int64  \n",
      " 17  Total_Trans_Ct            10127 non-null  int64  \n",
      " 18  Total_Ct_Chng_Q4_Q1       10127 non-null  float64\n",
      " 19  Avg_Utilization_Ratio     10127 non-null  float64\n",
      "dtypes: float64(5), int64(9), object(6)\n",
      "memory usage: 1.5+ MB\n"
     ]
    }
   ],
   "source": [
    "# slice the DataFrame, excluding CLIENTNUM column at index 0, and reassign to 'df'\n",
    "df = df.iloc[:,1:]\n",
    "\n",
    "# see the updated df information\n",
    "df.info()"
   ]
  },
  {
   "cell_type": "code",
   "execution_count": 8,
   "id": "42333522",
   "metadata": {},
   "outputs": [
    {
     "data": {
      "text/plain": [
       "['Attrition_Flag',\n",
       " 'Gender',\n",
       " 'Education_Level',\n",
       " 'Marital_Status',\n",
       " 'Income_Category',\n",
       " 'Card_Category']"
      ]
     },
     "execution_count": 8,
     "metadata": {},
     "output_type": "execute_result"
    }
   ],
   "source": [
    "#define categorical columns\n",
    "cat_cols = list(df.select_dtypes('object'))\n",
    "cat_cols"
   ]
  },
  {
   "cell_type": "code",
   "execution_count": 9,
   "id": "948003d8",
   "metadata": {},
   "outputs": [
    {
     "data": {
      "text/plain": [
       "['Customer_Age',\n",
       " 'Dependent_count',\n",
       " 'Months_on_book',\n",
       " 'Total_Relationship_Count',\n",
       " 'Months_Inactive_12_mon',\n",
       " 'Contacts_Count_12_mon',\n",
       " 'Credit_Limit',\n",
       " 'Total_Revolving_Bal',\n",
       " 'Avg_Open_To_Buy',\n",
       " 'Total_Amt_Chng_Q4_Q1',\n",
       " 'Total_Trans_Amt',\n",
       " 'Total_Trans_Ct',\n",
       " 'Total_Ct_Chng_Q4_Q1',\n",
       " 'Avg_Utilization_Ratio']"
      ]
     },
     "execution_count": 9,
     "metadata": {},
     "output_type": "execute_result"
    }
   ],
   "source": [
    "#define numerical columns\n",
    "num_cols = list(df.select_dtypes(['int64','float64']))\n",
    "num_cols"
   ]
  },
  {
   "cell_type": "code",
   "execution_count": 10,
   "id": "7bb6dce5",
   "metadata": {},
   "outputs": [],
   "source": [
    "# Encode Attrition_Flag\n",
    "df['Attrition_Flag'] = df['Attrition_Flag'].map({'Existing Customer': 0, \n",
    "                                                 'Attrited Customer':1})"
   ]
  },
  {
   "cell_type": "code",
   "execution_count": 11,
   "id": "5aa787f5",
   "metadata": {},
   "outputs": [
    {
     "data": {
      "text/plain": [
       "['Customer_Age',\n",
       " 'Dependent_count',\n",
       " 'Months_on_book',\n",
       " 'Total_Relationship_Count',\n",
       " 'Months_Inactive_12_mon',\n",
       " 'Contacts_Count_12_mon',\n",
       " 'Credit_Limit',\n",
       " 'Total_Revolving_Bal',\n",
       " 'Avg_Open_To_Buy',\n",
       " 'Total_Amt_Chng_Q4_Q1',\n",
       " 'Total_Trans_Amt',\n",
       " 'Total_Trans_Ct',\n",
       " 'Total_Ct_Chng_Q4_Q1',\n",
       " 'Avg_Utilization_Ratio']"
      ]
     },
     "execution_count": 11,
     "metadata": {},
     "output_type": "execute_result"
    }
   ],
   "source": [
    "# define numerical predictors\n",
    "num_pred = num_cols\n",
    "num_pred"
   ]
  },
  {
   "cell_type": "code",
   "execution_count": 12,
   "id": "9963b8ca",
   "metadata": {},
   "outputs": [
    {
     "data": {
      "image/png": "[encoded data removed]",
      "text/plain": [
       "<Figure size 504x5040 with 14 Axes>"
      ]
     },
     "metadata": {
      "needs_background": "light"
     },
     "output_type": "display_data"
    }
   ],
   "source": [
    "# set the figure\n",
    "fig, ax = plt.subplots(ncols=1, nrows=14, figsize=(7,70)) #each axes size=7x5\n",
    "# initiate variable\n",
    "i=0\n",
    "# loop\n",
    "for col in num_pred:\n",
    "    sns.boxplot(data=df, x=col, ax=ax[i], palette='pastel')\n",
    "    ax[i].set_xlabel(' ')\n",
    "    ax[i].set_ylabel(' ')\n",
    "    ax[i].set_title(col, fontsize=12)\n",
    "    i=i+1\n",
    "# show the plot\n",
    "plt.show()"
   ]
  },
  {
   "cell_type": "code",
   "execution_count": 13,
   "id": "c9cd3a01",
   "metadata": {},
   "outputs": [],
   "source": [
    "# outliers of each feature using Inner Fence\n",
    "\n",
    "# initiate empty dictionary and list for the loop\n",
    "outlier_dict_if = {}          #dict feature and all outliers\n",
    "outlier_dict_unique_if = {}   #dict feature and unique outliers\n",
    "# loop each features\n",
    "for col in num_pred:\n",
    "    # find upper and lower bound of each features using inner fence\n",
    "    stats = df[col].describe()\n",
    "    q1, q3 = stats['25%'], stats['75%']\n",
    "    iqr = q3-q1\n",
    "    lower_bound_if = q1 - (1.5 * iqr)\n",
    "    upper_bound_if = q3 + (1.5 * iqr)\n",
    "    \n",
    "    # set a condition: add data that are outside upper-lower boundary to dict\n",
    "    # initiate empty list\n",
    "    outlier_list_if = []\n",
    "    outlier_list_unique_if = []\n",
    "    for x in df[col]:\n",
    "        if ((x > upper_bound_if) or (x < lower_bound_if)):\n",
    "            outlier_list_if.append(x)\n",
    "            # if the value is not already in list\n",
    "            if x not in outlier_list_unique_if:\n",
    "                outlier_list_unique_if.append(x)\n",
    "        # append the list to dictionaries\n",
    "        outlier_dict_if['{}'.format(col)] = outlier_list_if\n",
    "        outlier_dict_unique_if['{}'.format(col)] = outlier_list_unique_if"
   ]
  },
  {
   "cell_type": "code",
   "execution_count": 14,
   "id": "8c01d64f",
   "metadata": {},
   "outputs": [
    {
     "data": {
      "text/html": [
       "<div>\n",
       "<style scoped>\n",
       "    .dataframe tbody tr th:only-of-type {\n",
       "        vertical-align: middle;\n",
       "    }\n",
       "\n",
       "    .dataframe tbody tr th {\n",
       "        vertical-align: top;\n",
       "    }\n",
       "\n",
       "    .dataframe thead th {\n",
       "        text-align: right;\n",
       "    }\n",
       "</style>\n",
       "<table border=\"1\" class=\"dataframe\">\n",
       "  <thead>\n",
       "    <tr style=\"text-align: right;\">\n",
       "      <th></th>\n",
       "      <th>feature</th>\n",
       "      <th>outlier_count_if</th>\n",
       "      <th>unique_outlier_count_if</th>\n",
       "    </tr>\n",
       "  </thead>\n",
       "  <tbody>\n",
       "    <tr>\n",
       "      <th>0</th>\n",
       "      <td>Customer_Age</td>\n",
       "      <td>2</td>\n",
       "      <td>2</td>\n",
       "    </tr>\n",
       "    <tr>\n",
       "      <th>1</th>\n",
       "      <td>Dependent_count</td>\n",
       "      <td>0</td>\n",
       "      <td>0</td>\n",
       "    </tr>\n",
       "    <tr>\n",
       "      <th>2</th>\n",
       "      <td>Months_on_book</td>\n",
       "      <td>386</td>\n",
       "      <td>8</td>\n",
       "    </tr>\n",
       "    <tr>\n",
       "      <th>3</th>\n",
       "      <td>Total_Relationship_Count</td>\n",
       "      <td>0</td>\n",
       "      <td>0</td>\n",
       "    </tr>\n",
       "    <tr>\n",
       "      <th>4</th>\n",
       "      <td>Months_Inactive_12_mon</td>\n",
       "      <td>331</td>\n",
       "      <td>3</td>\n",
       "    </tr>\n",
       "    <tr>\n",
       "      <th>5</th>\n",
       "      <td>Contacts_Count_12_mon</td>\n",
       "      <td>629</td>\n",
       "      <td>3</td>\n",
       "    </tr>\n",
       "    <tr>\n",
       "      <th>6</th>\n",
       "      <td>Credit_Limit</td>\n",
       "      <td>984</td>\n",
       "      <td>457</td>\n",
       "    </tr>\n",
       "    <tr>\n",
       "      <th>7</th>\n",
       "      <td>Total_Revolving_Bal</td>\n",
       "      <td>0</td>\n",
       "      <td>0</td>\n",
       "    </tr>\n",
       "    <tr>\n",
       "      <th>8</th>\n",
       "      <td>Avg_Open_To_Buy</td>\n",
       "      <td>963</td>\n",
       "      <td>781</td>\n",
       "    </tr>\n",
       "    <tr>\n",
       "      <th>9</th>\n",
       "      <td>Total_Amt_Chng_Q4_Q1</td>\n",
       "      <td>396</td>\n",
       "      <td>303</td>\n",
       "    </tr>\n",
       "    <tr>\n",
       "      <th>10</th>\n",
       "      <td>Total_Trans_Amt</td>\n",
       "      <td>896</td>\n",
       "      <td>819</td>\n",
       "    </tr>\n",
       "    <tr>\n",
       "      <th>11</th>\n",
       "      <td>Total_Trans_Ct</td>\n",
       "      <td>2</td>\n",
       "      <td>2</td>\n",
       "    </tr>\n",
       "    <tr>\n",
       "      <th>12</th>\n",
       "      <td>Total_Ct_Chng_Q4_Q1</td>\n",
       "      <td>394</td>\n",
       "      <td>172</td>\n",
       "    </tr>\n",
       "    <tr>\n",
       "      <th>13</th>\n",
       "      <td>Avg_Utilization_Ratio</td>\n",
       "      <td>0</td>\n",
       "      <td>0</td>\n",
       "    </tr>\n",
       "  </tbody>\n",
       "</table>\n",
       "</div>"
      ],
      "text/plain": [
       "                     feature  outlier_count_if  unique_outlier_count_if\n",
       "0               Customer_Age                 2                        2\n",
       "1            Dependent_count                 0                        0\n",
       "2             Months_on_book               386                        8\n",
       "3   Total_Relationship_Count                 0                        0\n",
       "4     Months_Inactive_12_mon               331                        3\n",
       "5      Contacts_Count_12_mon               629                        3\n",
       "6               Credit_Limit               984                      457\n",
       "7        Total_Revolving_Bal                 0                        0\n",
       "8            Avg_Open_To_Buy               963                      781\n",
       "9       Total_Amt_Chng_Q4_Q1               396                      303\n",
       "10           Total_Trans_Amt               896                      819\n",
       "11            Total_Trans_Ct                 2                        2\n",
       "12       Total_Ct_Chng_Q4_Q1               394                      172\n",
       "13     Avg_Utilization_Ratio                 0                        0"
      ]
     },
     "execution_count": 14,
     "metadata": {},
     "output_type": "execute_result"
    }
   ],
   "source": [
    "## create as dataframe\n",
    "# initiate empty lists\n",
    "outlier_list_count_if = []\n",
    "outlier_unique_count_if = []\n",
    "\n",
    "# loop\n",
    "for k, v in outlier_dict_if.items():\n",
    "    outlier_list_count_if.append(len(v))\n",
    "for k, v in outlier_dict_unique_if.items():\n",
    "    outlier_unique_count_if.append(len(v))\n",
    "\n",
    "# create dataframe\n",
    "outlier_df_if = pd.DataFrame({'feature': num_pred,\n",
    "                           'outlier_count_if': outlier_list_count_if,\n",
    "                           'unique_outlier_count_if': outlier_unique_count_if})\n",
    "outlier_df_if"
   ]
  },
  {
   "cell_type": "code",
   "execution_count": 15,
   "id": "6b018c84",
   "metadata": {},
   "outputs": [
    {
     "name": "stdout",
     "output_type": "stream",
     "text": [
      "Percentage of removed rows: 32.84%\n"
     ]
    }
   ],
   "source": [
    "# Remove Outlier based on IQR for features in num_pred_outlier, using inner fence\n",
    "after_removal_if = df\n",
    "\n",
    "for col in num_pred:\n",
    "    stats = df[col].describe()\n",
    "    q1, q3 = stats['25%'], stats['75%']\n",
    "    iqr = q3-q1\n",
    "    lower_bound_if = q1 - (1.5 * iqr)\n",
    "    upper_bound_if = q3 + (1.5 * iqr)\n",
    "    \n",
    "    after_removal_if = after_removal_if[(after_removal_if[col] >= lower_bound_if) & (after_removal_if[col] <= upper_bound_if)]\n",
    "\n",
    "# percentage removed\n",
    "removed_if = 100*(df.shape[0] - after_removal_if.shape[0])/df.shape[0]\n",
    "print('Percentage of removed rows: {}%'.format(round(removed_if,2)))"
   ]
  },
  {
   "cell_type": "code",
   "execution_count": 16,
   "id": "c8e2c4c2",
   "metadata": {},
   "outputs": [],
   "source": [
    "# outliers of each feature using Outer Fence\n",
    "\n",
    "# initiate empty dictionary and list for the loop\n",
    "outlier_dict_of = {}          #dict feature and all outliers\n",
    "outlier_dict_unique_of = {}   #dict feature and unique outliers\n",
    "# loop each features\n",
    "for col in num_pred:\n",
    "    # find upper and lower bound of each features using outer fence\n",
    "    stats = df[col].describe()\n",
    "    q1, q3 = stats['25%'], stats['75%']\n",
    "    iqr = q3-q1\n",
    "    lower_bound_of = q1 - (3 * iqr)\n",
    "    upper_bound_of = q3 + (3 * iqr)\n",
    "    \n",
    "    # set a condition: add data that are outside upper-lower boundary to dict\n",
    "    # initiate empty list\n",
    "    outlier_list_of = []\n",
    "    outlier_list_unique_of = []\n",
    "    for x in df[col]:\n",
    "        if ((x > upper_bound_of) or (x < lower_bound_of)):\n",
    "            outlier_list_of.append(x)\n",
    "            # if the value is not already in list\n",
    "            if x not in outlier_list_unique_of:\n",
    "                outlier_list_unique_of.append(x)\n",
    "        # append the list to dictionaries\n",
    "        outlier_dict_of['{}'.format(col)] = outlier_list_of\n",
    "        outlier_dict_unique_of['{}'.format(col)] = outlier_list_unique_of"
   ]
  },
  {
   "cell_type": "code",
   "execution_count": 17,
   "id": "e818cb99",
   "metadata": {},
   "outputs": [
    {
     "data": {
      "text/html": [
       "<div>\n",
       "<style scoped>\n",
       "    .dataframe tbody tr th:only-of-type {\n",
       "        vertical-align: middle;\n",
       "    }\n",
       "\n",
       "    .dataframe tbody tr th {\n",
       "        vertical-align: top;\n",
       "    }\n",
       "\n",
       "    .dataframe thead th {\n",
       "        text-align: right;\n",
       "    }\n",
       "</style>\n",
       "<table border=\"1\" class=\"dataframe\">\n",
       "  <thead>\n",
       "    <tr style=\"text-align: right;\">\n",
       "      <th></th>\n",
       "      <th>feature</th>\n",
       "      <th>outlier_count_of</th>\n",
       "      <th>unique_outlier_count_of</th>\n",
       "    </tr>\n",
       "  </thead>\n",
       "  <tbody>\n",
       "    <tr>\n",
       "      <th>0</th>\n",
       "      <td>Customer_Age</td>\n",
       "      <td>0</td>\n",
       "      <td>0</td>\n",
       "    </tr>\n",
       "    <tr>\n",
       "      <th>1</th>\n",
       "      <td>Dependent_count</td>\n",
       "      <td>0</td>\n",
       "      <td>0</td>\n",
       "    </tr>\n",
       "    <tr>\n",
       "      <th>2</th>\n",
       "      <td>Months_on_book</td>\n",
       "      <td>0</td>\n",
       "      <td>0</td>\n",
       "    </tr>\n",
       "    <tr>\n",
       "      <th>3</th>\n",
       "      <td>Total_Relationship_Count</td>\n",
       "      <td>0</td>\n",
       "      <td>0</td>\n",
       "    </tr>\n",
       "    <tr>\n",
       "      <th>4</th>\n",
       "      <td>Months_Inactive_12_mon</td>\n",
       "      <td>0</td>\n",
       "      <td>0</td>\n",
       "    </tr>\n",
       "    <tr>\n",
       "      <th>5</th>\n",
       "      <td>Contacts_Count_12_mon</td>\n",
       "      <td>0</td>\n",
       "      <td>0</td>\n",
       "    </tr>\n",
       "    <tr>\n",
       "      <th>6</th>\n",
       "      <td>Credit_Limit</td>\n",
       "      <td>0</td>\n",
       "      <td>0</td>\n",
       "    </tr>\n",
       "    <tr>\n",
       "      <th>7</th>\n",
       "      <td>Total_Revolving_Bal</td>\n",
       "      <td>0</td>\n",
       "      <td>0</td>\n",
       "    </tr>\n",
       "    <tr>\n",
       "      <th>8</th>\n",
       "      <td>Avg_Open_To_Buy</td>\n",
       "      <td>0</td>\n",
       "      <td>0</td>\n",
       "    </tr>\n",
       "    <tr>\n",
       "      <th>9</th>\n",
       "      <td>Total_Amt_Chng_Q4_Q1</td>\n",
       "      <td>90</td>\n",
       "      <td>83</td>\n",
       "    </tr>\n",
       "    <tr>\n",
       "      <th>10</th>\n",
       "      <td>Total_Trans_Amt</td>\n",
       "      <td>737</td>\n",
       "      <td>667</td>\n",
       "    </tr>\n",
       "    <tr>\n",
       "      <th>11</th>\n",
       "      <td>Total_Trans_Ct</td>\n",
       "      <td>0</td>\n",
       "      <td>0</td>\n",
       "    </tr>\n",
       "    <tr>\n",
       "      <th>12</th>\n",
       "      <td>Total_Ct_Chng_Q4_Q1</td>\n",
       "      <td>80</td>\n",
       "      <td>48</td>\n",
       "    </tr>\n",
       "    <tr>\n",
       "      <th>13</th>\n",
       "      <td>Avg_Utilization_Ratio</td>\n",
       "      <td>0</td>\n",
       "      <td>0</td>\n",
       "    </tr>\n",
       "  </tbody>\n",
       "</table>\n",
       "</div>"
      ],
      "text/plain": [
       "                     feature  outlier_count_of  unique_outlier_count_of\n",
       "0               Customer_Age                 0                        0\n",
       "1            Dependent_count                 0                        0\n",
       "2             Months_on_book                 0                        0\n",
       "3   Total_Relationship_Count                 0                        0\n",
       "4     Months_Inactive_12_mon                 0                        0\n",
       "5      Contacts_Count_12_mon                 0                        0\n",
       "6               Credit_Limit                 0                        0\n",
       "7        Total_Revolving_Bal                 0                        0\n",
       "8            Avg_Open_To_Buy                 0                        0\n",
       "9       Total_Amt_Chng_Q4_Q1                90                       83\n",
       "10           Total_Trans_Amt               737                      667\n",
       "11            Total_Trans_Ct                 0                        0\n",
       "12       Total_Ct_Chng_Q4_Q1                80                       48\n",
       "13     Avg_Utilization_Ratio                 0                        0"
      ]
     },
     "execution_count": 17,
     "metadata": {},
     "output_type": "execute_result"
    }
   ],
   "source": [
    "## create as dataframe\n",
    "# initiate empty lists\n",
    "outlier_list_count_of = []\n",
    "outlier_unique_count_of = []\n",
    "\n",
    "# loop\n",
    "for k, v in outlier_dict_of.items():\n",
    "    outlier_list_count_of.append(len(v))\n",
    "for k, v in outlier_dict_unique_of.items():\n",
    "    outlier_unique_count_of.append(len(v))\n",
    "\n",
    "# create dataframe\n",
    "outlier_df_of = pd.DataFrame({'feature': num_pred,\n",
    "                           'outlier_count_of': outlier_list_count_of,\n",
    "                           'unique_outlier_count_of': outlier_unique_count_of})\n",
    "outlier_df_of"
   ]
  },
  {
   "cell_type": "code",
   "execution_count": 18,
   "id": "a0786d15",
   "metadata": {},
   "outputs": [
    {
     "name": "stdout",
     "output_type": "stream",
     "text": [
      "Percentage of removed rows: 8.77%\n"
     ]
    }
   ],
   "source": [
    "# Remove Outlier based on IQR for features in num_pred_outlier, using outer fence\n",
    "after_removal_of = df\n",
    "\n",
    "for col in num_pred:\n",
    "    stats = df[col].describe()\n",
    "    q1, q3 = stats['25%'], stats['75%']\n",
    "    iqr = q3-q1\n",
    "    lower_bound_of = q1 - (3 * iqr)\n",
    "    upper_bound_of = q3 + (3 * iqr)\n",
    "    \n",
    "    after_removal_of = after_removal_of[(after_removal_of[col] >= lower_bound_of) & (after_removal_of[col] <= upper_bound_of)]\n",
    "\n",
    "# percentage removed\n",
    "removed_of = 100*(df.shape[0] - after_removal_of.shape[0])/df.shape[0]\n",
    "print('Percentage of removed rows: {}%'.format(round(removed_of,2)))"
   ]
  },
  {
   "cell_type": "code",
   "execution_count": 19,
   "id": "160b105f",
   "metadata": {},
   "outputs": [
    {
     "data": {
      "text/plain": [
       "['Gender',\n",
       " 'Education_Level',\n",
       " 'Marital_Status',\n",
       " 'Income_Category',\n",
       " 'Card_Category']"
      ]
     },
     "execution_count": 19,
     "metadata": {},
     "output_type": "execute_result"
    }
   ],
   "source": [
    "#define categorical predictors\n",
    "cat_pred = cat_cols[1:]\n",
    "cat_pred"
   ]
  },
  {
   "cell_type": "code",
   "execution_count": 20,
   "id": "2408cd38",
   "metadata": {},
   "outputs": [
    {
     "data": {
      "text/html": [
       "<div>\n",
       "<style scoped>\n",
       "    .dataframe tbody tr th:only-of-type {\n",
       "        vertical-align: middle;\n",
       "    }\n",
       "\n",
       "    .dataframe tbody tr th {\n",
       "        vertical-align: top;\n",
       "    }\n",
       "\n",
       "    .dataframe thead th {\n",
       "        text-align: right;\n",
       "    }\n",
       "</style>\n",
       "<table border=\"1\" class=\"dataframe\">\n",
       "  <thead>\n",
       "    <tr style=\"text-align: right;\">\n",
       "      <th></th>\n",
       "      <th>feature</th>\n",
       "      <th>outlier_count_of</th>\n",
       "      <th>unique_outlier_count_of</th>\n",
       "    </tr>\n",
       "  </thead>\n",
       "  <tbody>\n",
       "    <tr>\n",
       "      <th>0</th>\n",
       "      <td>Customer_Age</td>\n",
       "      <td>0</td>\n",
       "      <td>0</td>\n",
       "    </tr>\n",
       "    <tr>\n",
       "      <th>1</th>\n",
       "      <td>Dependent_count</td>\n",
       "      <td>0</td>\n",
       "      <td>0</td>\n",
       "    </tr>\n",
       "    <tr>\n",
       "      <th>2</th>\n",
       "      <td>Months_on_book</td>\n",
       "      <td>0</td>\n",
       "      <td>0</td>\n",
       "    </tr>\n",
       "    <tr>\n",
       "      <th>3</th>\n",
       "      <td>Total_Relationship_Count</td>\n",
       "      <td>0</td>\n",
       "      <td>0</td>\n",
       "    </tr>\n",
       "    <tr>\n",
       "      <th>4</th>\n",
       "      <td>Months_Inactive_12_mon</td>\n",
       "      <td>0</td>\n",
       "      <td>0</td>\n",
       "    </tr>\n",
       "    <tr>\n",
       "      <th>5</th>\n",
       "      <td>Contacts_Count_12_mon</td>\n",
       "      <td>0</td>\n",
       "      <td>0</td>\n",
       "    </tr>\n",
       "    <tr>\n",
       "      <th>6</th>\n",
       "      <td>Credit_Limit</td>\n",
       "      <td>0</td>\n",
       "      <td>0</td>\n",
       "    </tr>\n",
       "    <tr>\n",
       "      <th>7</th>\n",
       "      <td>Total_Revolving_Bal</td>\n",
       "      <td>0</td>\n",
       "      <td>0</td>\n",
       "    </tr>\n",
       "    <tr>\n",
       "      <th>8</th>\n",
       "      <td>Avg_Open_To_Buy</td>\n",
       "      <td>0</td>\n",
       "      <td>0</td>\n",
       "    </tr>\n",
       "    <tr>\n",
       "      <th>9</th>\n",
       "      <td>Total_Amt_Chng_Q4_Q1</td>\n",
       "      <td>90</td>\n",
       "      <td>83</td>\n",
       "    </tr>\n",
       "    <tr>\n",
       "      <th>10</th>\n",
       "      <td>Total_Trans_Amt</td>\n",
       "      <td>737</td>\n",
       "      <td>667</td>\n",
       "    </tr>\n",
       "    <tr>\n",
       "      <th>11</th>\n",
       "      <td>Total_Trans_Ct</td>\n",
       "      <td>0</td>\n",
       "      <td>0</td>\n",
       "    </tr>\n",
       "    <tr>\n",
       "      <th>12</th>\n",
       "      <td>Total_Ct_Chng_Q4_Q1</td>\n",
       "      <td>80</td>\n",
       "      <td>48</td>\n",
       "    </tr>\n",
       "    <tr>\n",
       "      <th>13</th>\n",
       "      <td>Avg_Utilization_Ratio</td>\n",
       "      <td>0</td>\n",
       "      <td>0</td>\n",
       "    </tr>\n",
       "  </tbody>\n",
       "</table>\n",
       "</div>"
      ],
      "text/plain": [
       "                     feature  outlier_count_of  unique_outlier_count_of\n",
       "0               Customer_Age                 0                        0\n",
       "1            Dependent_count                 0                        0\n",
       "2             Months_on_book                 0                        0\n",
       "3   Total_Relationship_Count                 0                        0\n",
       "4     Months_Inactive_12_mon                 0                        0\n",
       "5      Contacts_Count_12_mon                 0                        0\n",
       "6               Credit_Limit                 0                        0\n",
       "7        Total_Revolving_Bal                 0                        0\n",
       "8            Avg_Open_To_Buy                 0                        0\n",
       "9       Total_Amt_Chng_Q4_Q1                90                       83\n",
       "10           Total_Trans_Amt               737                      667\n",
       "11            Total_Trans_Ct                 0                        0\n",
       "12       Total_Ct_Chng_Q4_Q1                80                       48\n",
       "13     Avg_Utilization_Ratio                 0                        0"
      ]
     },
     "execution_count": 20,
     "metadata": {},
     "output_type": "execute_result"
    }
   ],
   "source": [
    "# recall the outliers summary of Outer Fence method\n",
    "outlier_df_of"
   ]
  },
  {
   "cell_type": "code",
   "execution_count": 21,
   "id": "62750a53",
   "metadata": {},
   "outputs": [],
   "source": [
    "# copy df to a new variable that will be processed\n",
    "data = df"
   ]
  },
  {
   "cell_type": "code",
   "execution_count": 22,
   "id": "ea5c3f45",
   "metadata": {},
   "outputs": [
    {
     "name": "stdout",
     "output_type": "stream",
     "text": [
      "<class 'pandas.core.frame.DataFrame'>\n",
      "Int64Index: 9240 entries, 5 to 10126\n",
      "Data columns (total 20 columns):\n",
      " #   Column                    Non-Null Count  Dtype  \n",
      "---  ------                    --------------  -----  \n",
      " 0   Attrition_Flag            9240 non-null   int64  \n",
      " 1   Customer_Age              9240 non-null   int64  \n",
      " 2   Gender                    9240 non-null   object \n",
      " 3   Dependent_count           9240 non-null   int64  \n",
      " 4   Education_Level           9240 non-null   object \n",
      " 5   Marital_Status            9240 non-null   object \n",
      " 6   Income_Category           9240 non-null   object \n",
      " 7   Card_Category             9240 non-null   object \n",
      " 8   Months_on_book            9240 non-null   int64  \n",
      " 9   Total_Relationship_Count  9240 non-null   int64  \n",
      " 10  Months_Inactive_12_mon    9240 non-null   int64  \n",
      " 11  Contacts_Count_12_mon     9240 non-null   int64  \n",
      " 12  Credit_Limit              9240 non-null   float64\n",
      " 13  Total_Revolving_Bal       9240 non-null   int64  \n",
      " 14  Avg_Open_To_Buy           9240 non-null   float64\n",
      " 15  Total_Amt_Chng_Q4_Q1      9240 non-null   float64\n",
      " 16  Total_Trans_Amt           9240 non-null   int64  \n",
      " 17  Total_Trans_Ct            9240 non-null   int64  \n",
      " 18  Total_Ct_Chng_Q4_Q1       9240 non-null   float64\n",
      " 19  Avg_Utilization_Ratio     9240 non-null   float64\n",
      "dtypes: float64(5), int64(10), object(5)\n",
      "memory usage: 1.5+ MB\n"
     ]
    }
   ],
   "source": [
    "# Remove outliers based on outer fence boundary\n",
    "for col in num_pred:\n",
    "    stats = data[col].describe()\n",
    "    q1, q3 = stats['25%'], stats['75%']\n",
    "    iqr = q3-q1\n",
    "    lower_bound = q1 - (3 * iqr)\n",
    "    upper_bound = q3 + (3 * iqr)\n",
    "    \n",
    "    data = data[(data[col] >= lower_bound) & (data[col] <= upper_bound)]\n",
    "\n",
    "# Check updated dataframe\n",
    "data.info()"
   ]
  },
  {
   "cell_type": "code",
   "execution_count": 23,
   "id": "a4dc1f2d",
   "metadata": {},
   "outputs": [
    {
     "data": {
      "text/plain": [
       "(9240, 20)"
      ]
     },
     "execution_count": 23,
     "metadata": {},
     "output_type": "execute_result"
    }
   ],
   "source": [
    "# updated dataframe\n",
    "data.shape"
   ]
  },
  {
   "cell_type": "code",
   "execution_count": 24,
   "id": "8677e5df",
   "metadata": {},
   "outputs": [
    {
     "data": {
      "image/png": "[encoded data removed]",
      "text/plain": [
       "<Figure size 1152x576 with 2 Axes>"
      ]
     },
     "metadata": {
      "needs_background": "light"
     },
     "output_type": "display_data"
    }
   ],
   "source": [
    "\n",
    "### recalculate correlation after outlier removal\n",
    "# prepare figure\n",
    "\n",
    "# create mask to cover the upper triangle of the heatmap\n",
    "mask = np.triu(np.ones_like(data.corr()))\n",
    "# create colormap\n",
    "colormap = sns.color_palette(\"Blues\")\n",
    " \n",
    "\n",
    "plt.figure(figsize=(16,8))\n",
    "plt.title('Correlation between All Numerical Feature After Outlier Removal', size=15)\n",
    "sns.heatmap(data.corr(), annot=True, cmap=colormap)\n",
    "\n",
    "\n",
    "plt.show()"
   ]
  },
  {
   "cell_type": "code",
   "execution_count": 25,
   "id": "b9097634",
   "metadata": {},
   "outputs": [
    {
     "name": "stdout",
     "output_type": "stream",
     "text": [
      "<class 'pandas.core.frame.DataFrame'>\n",
      "Int64Index: 9240 entries, 5 to 10126\n",
      "Data columns (total 19 columns):\n",
      " #   Column                    Non-Null Count  Dtype  \n",
      "---  ------                    --------------  -----  \n",
      " 0   Attrition_Flag            9240 non-null   int64  \n",
      " 1   Customer_Age              9240 non-null   int64  \n",
      " 2   Gender                    9240 non-null   object \n",
      " 3   Dependent_count           9240 non-null   int64  \n",
      " 4   Education_Level           9240 non-null   object \n",
      " 5   Marital_Status            9240 non-null   object \n",
      " 6   Income_Category           9240 non-null   object \n",
      " 7   Card_Category             9240 non-null   object \n",
      " 8   Months_on_book            9240 non-null   int64  \n",
      " 9   Total_Relationship_Count  9240 non-null   int64  \n",
      " 10  Months_Inactive_12_mon    9240 non-null   int64  \n",
      " 11  Contacts_Count_12_mon     9240 non-null   int64  \n",
      " 12  Credit_Limit              9240 non-null   float64\n",
      " 13  Total_Revolving_Bal       9240 non-null   int64  \n",
      " 14  Total_Amt_Chng_Q4_Q1      9240 non-null   float64\n",
      " 15  Total_Trans_Amt           9240 non-null   int64  \n",
      " 16  Total_Trans_Ct            9240 non-null   int64  \n",
      " 17  Total_Ct_Chng_Q4_Q1       9240 non-null   float64\n",
      " 18  Avg_Utilization_Ratio     9240 non-null   float64\n",
      "dtypes: float64(4), int64(10), object(5)\n",
      "memory usage: 1.4+ MB\n"
     ]
    }
   ],
   "source": [
    "# drop one of the highly correlated feature\n",
    "dropped = ['Avg_Open_To_Buy']\n",
    "data = data.drop(dropped, axis=1)\n",
    "\n",
    "# updated DataFrame\n",
    "data.info()"
   ]
  },
  {
   "cell_type": "code",
   "execution_count": 26,
   "id": "8901c65f",
   "metadata": {},
   "outputs": [
    {
     "name": "stdout",
     "output_type": "stream",
     "text": [
      "Customer_Age\n",
      "Dependent_count\n",
      "Months_on_book\n",
      "Total_Relationship_Count\n",
      "Months_Inactive_12_mon\n",
      "Contacts_Count_12_mon\n",
      "Credit_Limit\n",
      "Total_Revolving_Bal\n",
      "Total_Amt_Chng_Q4_Q1\n",
      "Total_Trans_Amt\n",
      "Total_Trans_Ct\n",
      "Total_Ct_Chng_Q4_Q1\n",
      "Avg_Utilization_Ratio\n",
      "\n",
      "Count: 13\n"
     ]
    }
   ],
   "source": [
    "# redefine numerical predictors list by removing dropped features\n",
    "### 1st way\n",
    "#num_pred_process = num_pred\n",
    "#for i in dropped:\n",
    "#    num_pred_process.remove(i)\n",
    "### 2nd way    \n",
    "num_pred_process = [x for x in num_pred if x not in dropped]\n",
    "\n",
    "print(*num_pred_process, sep='\\n')\n",
    "print('\\nCount:', len(num_pred_process))"
   ]
  },
  {
   "cell_type": "code",
   "execution_count": 27,
   "id": "d5c209e7",
   "metadata": {},
   "outputs": [
    {
     "data": {
      "text/html": [
       "<div>\n",
       "<style scoped>\n",
       "    .dataframe tbody tr th:only-of-type {\n",
       "        vertical-align: middle;\n",
       "    }\n",
       "\n",
       "    .dataframe tbody tr th {\n",
       "        vertical-align: top;\n",
       "    }\n",
       "\n",
       "    .dataframe thead th {\n",
       "        text-align: right;\n",
       "    }\n",
       "</style>\n",
       "<table border=\"1\" class=\"dataframe\">\n",
       "  <thead>\n",
       "    <tr style=\"text-align: right;\">\n",
       "      <th></th>\n",
       "      <th>feature</th>\n",
       "      <th>skewness</th>\n",
       "    </tr>\n",
       "  </thead>\n",
       "  <tbody>\n",
       "    <tr>\n",
       "      <th>0</th>\n",
       "      <td>Customer_Age</td>\n",
       "      <td>-0.026</td>\n",
       "    </tr>\n",
       "    <tr>\n",
       "      <th>1</th>\n",
       "      <td>Dependent_count</td>\n",
       "      <td>-0.034</td>\n",
       "    </tr>\n",
       "    <tr>\n",
       "      <th>2</th>\n",
       "      <td>Months_on_book</td>\n",
       "      <td>-0.090</td>\n",
       "    </tr>\n",
       "    <tr>\n",
       "      <th>3</th>\n",
       "      <td>Total_Relationship_Count</td>\n",
       "      <td>-0.231</td>\n",
       "    </tr>\n",
       "    <tr>\n",
       "      <th>4</th>\n",
       "      <td>Months_Inactive_12_mon</td>\n",
       "      <td>0.623</td>\n",
       "    </tr>\n",
       "    <tr>\n",
       "      <th>5</th>\n",
       "      <td>Contacts_Count_12_mon</td>\n",
       "      <td>-0.010</td>\n",
       "    </tr>\n",
       "    <tr>\n",
       "      <th>6</th>\n",
       "      <td>Credit_Limit</td>\n",
       "      <td>1.770</td>\n",
       "    </tr>\n",
       "    <tr>\n",
       "      <th>7</th>\n",
       "      <td>Total_Revolving_Bal</td>\n",
       "      <td>-0.112</td>\n",
       "    </tr>\n",
       "    <tr>\n",
       "      <th>8</th>\n",
       "      <td>Total_Amt_Chng_Q4_Q1</td>\n",
       "      <td>0.571</td>\n",
       "    </tr>\n",
       "    <tr>\n",
       "      <th>9</th>\n",
       "      <td>Total_Trans_Amt</td>\n",
       "      <td>0.941</td>\n",
       "    </tr>\n",
       "    <tr>\n",
       "      <th>10</th>\n",
       "      <td>Total_Trans_Ct</td>\n",
       "      <td>-0.264</td>\n",
       "    </tr>\n",
       "    <tr>\n",
       "      <th>11</th>\n",
       "      <td>Total_Ct_Chng_Q4_Q1</td>\n",
       "      <td>0.321</td>\n",
       "    </tr>\n",
       "    <tr>\n",
       "      <th>12</th>\n",
       "      <td>Avg_Utilization_Ratio</td>\n",
       "      <td>0.668</td>\n",
       "    </tr>\n",
       "  </tbody>\n",
       "</table>\n",
       "</div>"
      ],
      "text/plain": [
       "                     feature  skewness\n",
       "0               Customer_Age    -0.026\n",
       "1            Dependent_count    -0.034\n",
       "2             Months_on_book    -0.090\n",
       "3   Total_Relationship_Count    -0.231\n",
       "4     Months_Inactive_12_mon     0.623\n",
       "5      Contacts_Count_12_mon    -0.010\n",
       "6               Credit_Limit     1.770\n",
       "7        Total_Revolving_Bal    -0.112\n",
       "8       Total_Amt_Chng_Q4_Q1     0.571\n",
       "9            Total_Trans_Amt     0.941\n",
       "10            Total_Trans_Ct    -0.264\n",
       "11       Total_Ct_Chng_Q4_Q1     0.321\n",
       "12     Avg_Utilization_Ratio     0.668"
      ]
     },
     "execution_count": 27,
     "metadata": {},
     "output_type": "execute_result"
    }
   ],
   "source": [
    "# check skewness of updated dataframe\n",
    "skew_upd = []\n",
    "for col in num_pred_process:\n",
    "    skew_upd.append(round(data[col].skew(),3))\n",
    "\n",
    "num_dist_upd = pd.DataFrame({'feature':num_pred_process, 'skewness':skew_upd})\n",
    "num_dist_upd"
   ]
  },
  {
   "cell_type": "code",
   "execution_count": 28,
   "id": "480c2e3d",
   "metadata": {},
   "outputs": [
    {
     "data": {
      "text/html": [
       "<div>\n",
       "<style scoped>\n",
       "    .dataframe tbody tr th:only-of-type {\n",
       "        vertical-align: middle;\n",
       "    }\n",
       "\n",
       "    .dataframe tbody tr th {\n",
       "        vertical-align: top;\n",
       "    }\n",
       "\n",
       "    .dataframe thead th {\n",
       "        text-align: right;\n",
       "    }\n",
       "</style>\n",
       "<table border=\"1\" class=\"dataframe\">\n",
       "  <thead>\n",
       "    <tr style=\"text-align: right;\">\n",
       "      <th></th>\n",
       "      <th>feature</th>\n",
       "      <th>skewness</th>\n",
       "    </tr>\n",
       "  </thead>\n",
       "  <tbody>\n",
       "    <tr>\n",
       "      <th>0</th>\n",
       "      <td>Customer_Age</td>\n",
       "      <td>-0.034</td>\n",
       "    </tr>\n",
       "    <tr>\n",
       "      <th>1</th>\n",
       "      <td>Dependent_count</td>\n",
       "      <td>-0.021</td>\n",
       "    </tr>\n",
       "    <tr>\n",
       "      <th>2</th>\n",
       "      <td>Months_on_book</td>\n",
       "      <td>-0.107</td>\n",
       "    </tr>\n",
       "    <tr>\n",
       "      <th>3</th>\n",
       "      <td>Total_Relationship_Count</td>\n",
       "      <td>-0.162</td>\n",
       "    </tr>\n",
       "    <tr>\n",
       "      <th>4</th>\n",
       "      <td>Months_Inactive_12_mon</td>\n",
       "      <td>0.633</td>\n",
       "    </tr>\n",
       "    <tr>\n",
       "      <th>5</th>\n",
       "      <td>Contacts_Count_12_mon</td>\n",
       "      <td>0.011</td>\n",
       "    </tr>\n",
       "    <tr>\n",
       "      <th>6</th>\n",
       "      <td>Credit_Limit</td>\n",
       "      <td>1.667</td>\n",
       "    </tr>\n",
       "    <tr>\n",
       "      <th>7</th>\n",
       "      <td>Total_Revolving_Bal</td>\n",
       "      <td>-0.149</td>\n",
       "    </tr>\n",
       "    <tr>\n",
       "      <th>8</th>\n",
       "      <td>Avg_Open_To_Buy</td>\n",
       "      <td>1.662</td>\n",
       "    </tr>\n",
       "    <tr>\n",
       "      <th>9</th>\n",
       "      <td>Total_Amt_Chng_Q4_Q1</td>\n",
       "      <td>1.732</td>\n",
       "    </tr>\n",
       "    <tr>\n",
       "      <th>10</th>\n",
       "      <td>Total_Trans_Amt</td>\n",
       "      <td>2.041</td>\n",
       "    </tr>\n",
       "    <tr>\n",
       "      <th>11</th>\n",
       "      <td>Total_Trans_Ct</td>\n",
       "      <td>0.154</td>\n",
       "    </tr>\n",
       "    <tr>\n",
       "      <th>12</th>\n",
       "      <td>Total_Ct_Chng_Q4_Q1</td>\n",
       "      <td>2.064</td>\n",
       "    </tr>\n",
       "    <tr>\n",
       "      <th>13</th>\n",
       "      <td>Avg_Utilization_Ratio</td>\n",
       "      <td>0.718</td>\n",
       "    </tr>\n",
       "  </tbody>\n",
       "</table>\n",
       "</div>"
      ],
      "text/plain": [
       "                     feature  skewness\n",
       "0               Customer_Age    -0.034\n",
       "1            Dependent_count    -0.021\n",
       "2             Months_on_book    -0.107\n",
       "3   Total_Relationship_Count    -0.162\n",
       "4     Months_Inactive_12_mon     0.633\n",
       "5      Contacts_Count_12_mon     0.011\n",
       "6               Credit_Limit     1.667\n",
       "7        Total_Revolving_Bal    -0.149\n",
       "8            Avg_Open_To_Buy     1.662\n",
       "9       Total_Amt_Chng_Q4_Q1     1.732\n",
       "10           Total_Trans_Amt     2.041\n",
       "11            Total_Trans_Ct     0.154\n",
       "12       Total_Ct_Chng_Q4_Q1     2.064\n",
       "13     Avg_Utilization_Ratio     0.718"
      ]
     },
     "execution_count": 28,
     "metadata": {},
     "output_type": "execute_result"
    }
   ],
   "source": [
    "# check skewness of distribution\n",
    "skew = []\n",
    "for col in num_pred:\n",
    "    skew.append(round(df[col].skew(),3))\n",
    "\n",
    "num_dist = pd.DataFrame({'feature':num_pred, 'skewness':skew})\n",
    "num_dist"
   ]
  },
  {
   "cell_type": "code",
   "execution_count": 29,
   "id": "56988440",
   "metadata": {},
   "outputs": [
    {
     "data": {
      "text/plain": [
       "['Customer_Age', 'Dependent_count', 'Contacts_Count_12_mon']"
      ]
     },
     "execution_count": 29,
     "metadata": {},
     "output_type": "execute_result"
    }
   ],
   "source": [
    "gauss_feat = list(num_dist.query('skewness < 0.05 & skewness > -0.05')['feature'])\n",
    "gauss_feat"
   ]
  },
  {
   "cell_type": "code",
   "execution_count": 30,
   "id": "234b1132",
   "metadata": {},
   "outputs": [
    {
     "data": {
      "text/html": [
       "<div>\n",
       "<style scoped>\n",
       "    .dataframe tbody tr th:only-of-type {\n",
       "        vertical-align: middle;\n",
       "    }\n",
       "\n",
       "    .dataframe tbody tr th {\n",
       "        vertical-align: top;\n",
       "    }\n",
       "\n",
       "    .dataframe thead th {\n",
       "        text-align: right;\n",
       "    }\n",
       "</style>\n",
       "<table border=\"1\" class=\"dataframe\">\n",
       "  <thead>\n",
       "    <tr style=\"text-align: right;\">\n",
       "      <th></th>\n",
       "      <th>feature</th>\n",
       "      <th>skewness</th>\n",
       "    </tr>\n",
       "  </thead>\n",
       "  <tbody>\n",
       "    <tr>\n",
       "      <th>0</th>\n",
       "      <td>Customer_Age</td>\n",
       "      <td>-0.026</td>\n",
       "    </tr>\n",
       "    <tr>\n",
       "      <th>1</th>\n",
       "      <td>Dependent_count</td>\n",
       "      <td>-0.034</td>\n",
       "    </tr>\n",
       "    <tr>\n",
       "      <th>2</th>\n",
       "      <td>Months_on_book</td>\n",
       "      <td>-0.090</td>\n",
       "    </tr>\n",
       "    <tr>\n",
       "      <th>3</th>\n",
       "      <td>Total_Relationship_Count</td>\n",
       "      <td>-0.231</td>\n",
       "    </tr>\n",
       "    <tr>\n",
       "      <th>4</th>\n",
       "      <td>Months_Inactive_12_mon</td>\n",
       "      <td>0.623</td>\n",
       "    </tr>\n",
       "    <tr>\n",
       "      <th>5</th>\n",
       "      <td>Contacts_Count_12_mon</td>\n",
       "      <td>-0.010</td>\n",
       "    </tr>\n",
       "    <tr>\n",
       "      <th>6</th>\n",
       "      <td>Credit_Limit</td>\n",
       "      <td>1.770</td>\n",
       "    </tr>\n",
       "    <tr>\n",
       "      <th>7</th>\n",
       "      <td>Total_Revolving_Bal</td>\n",
       "      <td>-0.112</td>\n",
       "    </tr>\n",
       "    <tr>\n",
       "      <th>8</th>\n",
       "      <td>Total_Amt_Chng_Q4_Q1</td>\n",
       "      <td>0.571</td>\n",
       "    </tr>\n",
       "    <tr>\n",
       "      <th>9</th>\n",
       "      <td>Total_Trans_Amt</td>\n",
       "      <td>0.941</td>\n",
       "    </tr>\n",
       "    <tr>\n",
       "      <th>10</th>\n",
       "      <td>Total_Trans_Ct</td>\n",
       "      <td>-0.264</td>\n",
       "    </tr>\n",
       "    <tr>\n",
       "      <th>11</th>\n",
       "      <td>Total_Ct_Chng_Q4_Q1</td>\n",
       "      <td>0.321</td>\n",
       "    </tr>\n",
       "    <tr>\n",
       "      <th>12</th>\n",
       "      <td>Avg_Utilization_Ratio</td>\n",
       "      <td>0.668</td>\n",
       "    </tr>\n",
       "  </tbody>\n",
       "</table>\n",
       "</div>"
      ],
      "text/plain": [
       "                     feature  skewness\n",
       "0               Customer_Age    -0.026\n",
       "1            Dependent_count    -0.034\n",
       "2             Months_on_book    -0.090\n",
       "3   Total_Relationship_Count    -0.231\n",
       "4     Months_Inactive_12_mon     0.623\n",
       "5      Contacts_Count_12_mon    -0.010\n",
       "6               Credit_Limit     1.770\n",
       "7        Total_Revolving_Bal    -0.112\n",
       "8       Total_Amt_Chng_Q4_Q1     0.571\n",
       "9            Total_Trans_Amt     0.941\n",
       "10            Total_Trans_Ct    -0.264\n",
       "11       Total_Ct_Chng_Q4_Q1     0.321\n",
       "12     Avg_Utilization_Ratio     0.668"
      ]
     },
     "execution_count": 30,
     "metadata": {},
     "output_type": "execute_result"
    }
   ],
   "source": [
    "# check skewness of updated dataframe\n",
    "skew_upd = []\n",
    "for col in num_pred_process:\n",
    "    skew_upd.append(round(data[col].skew(),3))\n",
    "\n",
    "num_dist_upd = pd.DataFrame({'feature':num_pred_process, 'skewness':skew_upd})\n",
    "num_dist_upd"
   ]
  },
  {
   "cell_type": "code",
   "execution_count": 31,
   "id": "f1eac764",
   "metadata": {},
   "outputs": [
    {
     "data": {
      "text/plain": [
       "['Customer_Age', 'Dependent_count', 'Contacts_Count_12_mon']"
      ]
     },
     "execution_count": 31,
     "metadata": {},
     "output_type": "execute_result"
    }
   ],
   "source": [
    "std_pred = list(num_dist.query('skewness < 0.05 & skewness > -0.05')['feature'])\n",
    "std_pred"
   ]
  },
  {
   "cell_type": "code",
   "execution_count": 32,
   "id": "b50fdff1",
   "metadata": {},
   "outputs": [],
   "source": [
    "# import required libraries\n",
    "from sklearn.preprocessing import StandardScaler, MinMaxScaler# scaler\n",
    "std_scaler = StandardScaler()\n",
    "std_scaler.fit(data[std_pred])\n",
    "data[std_pred] = std_scaler.transform(data[std_pred])"
   ]
  },
  {
   "cell_type": "code",
   "execution_count": 33,
   "id": "30089e3e",
   "metadata": {},
   "outputs": [
    {
     "data": {
      "text/plain": [
       "['Months_on_book',\n",
       " 'Total_Relationship_Count',\n",
       " 'Months_Inactive_12_mon',\n",
       " 'Credit_Limit',\n",
       " 'Total_Revolving_Bal',\n",
       " 'Total_Amt_Chng_Q4_Q1',\n",
       " 'Total_Trans_Amt',\n",
       " 'Total_Trans_Ct',\n",
       " 'Total_Ct_Chng_Q4_Q1',\n",
       " 'Avg_Utilization_Ratio']"
      ]
     },
     "execution_count": 33,
     "metadata": {},
     "output_type": "execute_result"
    }
   ],
   "source": [
    "# define features to be normalized\n",
    "mm_pred = num_pred_process\n",
    "for i in std_pred:\n",
    "    mm_pred.remove(i)\n",
    "mm_pred"
   ]
  },
  {
   "cell_type": "code",
   "execution_count": 34,
   "id": "9b48c56f",
   "metadata": {},
   "outputs": [],
   "source": [
    "# scaler\n",
    "mm_scaler = MinMaxScaler()\n",
    "mm_scaler.fit(data[mm_pred])\n",
    "data[mm_pred] = mm_scaler.transform(data[mm_pred])"
   ]
  },
  {
   "cell_type": "code",
   "execution_count": 35,
   "id": "38972da7",
   "metadata": {},
   "outputs": [],
   "source": [
    "# Encode Education_Level\n",
    "data['Education_Level'] = data['Education_Level'].map({'Unknown':0,\n",
    "                                                       'Uneducated':1,\n",
    "                                                       'High School':2,\n",
    "                                                       'College':3,\n",
    "                                                       'Graduate':4,\n",
    "                                                       'Post-Graduate':5,\n",
    "                                                       'Doctorate':6})"
   ]
  },
  {
   "cell_type": "code",
   "execution_count": 36,
   "id": "f0318acc",
   "metadata": {},
   "outputs": [],
   "source": [
    "# Encode Income_Category\n",
    "data['Income_Category'] = data['Income_Category'].map({'Unknown':0,\n",
    "                                                       'Less than $40K':1,\n",
    "                                                       '$40K - $60K':2,\n",
    "                                                       '$60K - $80K':3,\n",
    "                                                       '$80K - $120K':4,\n",
    "                                                       '$120K +':5})"
   ]
  },
  {
   "cell_type": "code",
   "execution_count": 37,
   "id": "c5b02bab",
   "metadata": {},
   "outputs": [],
   "source": [
    "# Encode Card_Category\n",
    "data['Card_Category'] = data['Card_Category'].map({'Blue':0,\n",
    "                                                   'Silver': 1,\n",
    "                                                   'Gold':1,\n",
    "                                                   'Platinum':1})"
   ]
  },
  {
   "cell_type": "code",
   "execution_count": 38,
   "id": "cac3dd74",
   "metadata": {},
   "outputs": [],
   "source": [
    "# Encode Gender and Marital_Status\n",
    "data = pd.get_dummies(data, columns=['Gender', 'Marital_Status'], drop_first=True)"
   ]
  },
  {
   "cell_type": "code",
   "execution_count": 39,
   "id": "3a5ba490",
   "metadata": {},
   "outputs": [
    {
     "data": {
      "text/plain": [
       "0    7616\n",
       "1    1624\n",
       "Name: Attrition_Flag, dtype: int64"
      ]
     },
     "execution_count": 39,
     "metadata": {},
     "output_type": "execute_result"
    }
   ],
   "source": [
    "data['Attrition_Flag'].value_counts()"
   ]
  },
  {
   "cell_type": "code",
   "execution_count": 40,
   "id": "d15e56c5",
   "metadata": {},
   "outputs": [
    {
     "name": "stdout",
     "output_type": "stream",
     "text": [
      "Customer_Age\n",
      "Dependent_count\n",
      "Education_Level\n",
      "Income_Category\n",
      "Card_Category\n",
      "Months_on_book\n",
      "Total_Relationship_Count\n",
      "Months_Inactive_12_mon\n",
      "Contacts_Count_12_mon\n",
      "Credit_Limit\n",
      "Total_Revolving_Bal\n",
      "Total_Amt_Chng_Q4_Q1\n",
      "Total_Trans_Amt\n",
      "Total_Trans_Ct\n",
      "Total_Ct_Chng_Q4_Q1\n",
      "Avg_Utilization_Ratio\n",
      "Gender_M\n",
      "Marital_Status_Married\n",
      "Marital_Status_Single\n",
      "Marital_Status_Unknown\n",
      "\n",
      "Feature Count: 20\n"
     ]
    }
   ],
   "source": [
    "#define X (predictors) and y (target)\n",
    "_X = data.drop('Attrition_Flag', axis=1)  # input variables\n",
    "_y = data.Attrition_Flag                  # output variable\n",
    "\n",
    "# all features\n",
    "feature_all = _X.columns\n",
    "print(*feature_all, sep='\\n')\n",
    "print('\\nFeature Count:', len(feature_all))"
   ]
  },
  {
   "cell_type": "code",
   "execution_count": 41,
   "id": "c12f90e6",
   "metadata": {},
   "outputs": [],
   "source": [
    "# import required library\n",
    "from sklearn.model_selection import train_test_split"
   ]
  },
  {
   "cell_type": "code",
   "execution_count": 42,
   "id": "e0b09d2f",
   "metadata": {},
   "outputs": [
    {
     "name": "stdout",
     "output_type": "stream",
     "text": [
      "Train set shape: (7392, 20)\n",
      "Test set shape: (1848, 20)\n",
      "\n",
      "Proportional class distribution in train data:\n",
      "0    0.824269\n",
      "1    0.175731\n",
      "Name: Attrition_Flag, dtype: float64 \n",
      "\n",
      "Proportional class distribution in test data:\n",
      "0    0.824134\n",
      "1    0.175866\n",
      "Name: Attrition_Flag, dtype: float64\n"
     ]
    }
   ],
   "source": [
    "# split train and test \n",
    "_X_train, _X_test, _y_train, _y_test = train_test_split(_X, _y, test_size=0.20, random_state=0, stratify=_y)\n",
    "print('Train set shape:', _X_train.shape)\n",
    "print('Test set shape:', _X_test.shape)\n",
    "print('')\n",
    "print('Proportional class distribution in train data:\\n'+ str(_y_train.value_counts() / _y_train.count()), '\\n')\n",
    "print('Proportional class distribution in test data:\\n'+ str(_y_test.value_counts() / _y_test.count()))"
   ]
  },
  {
   "cell_type": "code",
   "execution_count": null,
   "id": "e5e38b23",
   "metadata": {},
   "outputs": [],
   "source": []
  },
  {
   "cell_type": "code",
   "execution_count": null,
   "id": "80e78b54",
   "metadata": {},
   "outputs": [],
   "source": []
  },
  {
   "cell_type": "code",
   "execution_count": null,
   "id": "28ae1e20",
   "metadata": {},
   "outputs": [],
   "source": []
  },
  {
   "cell_type": "code",
   "execution_count": 46,
   "id": "ecb332d5",
   "metadata": {},
   "outputs": [],
   "source": [
    "###logistic regression\n"
   ]
  },
  {
   "cell_type": "code",
   "execution_count": 43,
   "id": "d540571e",
   "metadata": {},
   "outputs": [],
   "source": [
    "# import required library\n",
    "from sklearn.metrics import confusion_matrix, roc_curve\n",
    "from sklearn.model_selection import RandomizedSearchCV, GridSearchCV\n",
    "from sklearn.neighbors import KNeighborsClassifier\n",
    "# import required libaries\n",
    "from sklearn.feature_selection import SelectFromModel\n",
    "from sklearn.linear_model import Lasso, LogisticRegression\n",
    "from sklearn.metrics import accuracy_score, f1_score, roc_auc_score"
   ]
  },
  {
   "cell_type": "code",
   "execution_count": null,
   "id": "5ff4aa12",
   "metadata": {},
   "outputs": [],
   "source": []
  },
  {
   "cell_type": "code",
   "execution_count": 44,
   "id": "bd2f61d0",
   "metadata": {},
   "outputs": [],
   "source": [
    "from imblearn.over_sampling import SMOTE\n",
    "sm = SMOTE(random_state=42)\n",
    "x_train, y_train = sm.fit_resample(_X_train, _y_train)\n",
    "#x_test, y_test = sm.fit_resample(x_test, y_test)"
   ]
  },
  {
   "cell_type": "code",
   "execution_count": 45,
   "id": "852265ba",
   "metadata": {},
   "outputs": [
    {
     "name": "stdout",
     "output_type": "stream",
     "text": [
      "FEATURE COUNT: 11\n",
      "\n",
      "SELECTED FEATURES:\n",
      "Dependent_count\n",
      "Education_Level\n",
      "Income_Category\n",
      "Total_Relationship_Count\n",
      "Months_Inactive_12_mon\n",
      "Contacts_Count_12_mon\n",
      "Total_Revolving_Bal\n",
      "Total_Trans_Ct\n",
      "Total_Ct_Chng_Q4_Q1\n",
      "Gender_M\n",
      "Marital_Status_Married\n"
     ]
    }
   ],
   "source": [
    "# define the model\n",
    "select_1 = SelectFromModel(Lasso(alpha=0.008, random_state=0))\n",
    "\n",
    "#train the model\n",
    "select_1.fit(x_train, y_train)\n",
    "\n",
    "# get support from the model\n",
    "print('FEATURE COUNT:',select_1.get_support().sum())\n",
    "print('')\n",
    "# selected feature\n",
    "feature_lasso_1 = x_train.columns[(select_1.get_support())]\n",
    "print('SELECTED FEATURES:')\n",
    "print(*feature_lasso_1, sep='\\n')"
   ]
  },
  {
   "cell_type": "code",
   "execution_count": 46,
   "id": "1f4eb80b",
   "metadata": {},
   "outputs": [
    {
     "name": "stdout",
     "output_type": "stream",
     "text": [
      "FEATURE COUNT: 11\n",
      "\n",
      "SELECTED FEATURES:\n",
      "Dependent_count\n",
      "Education_Level\n",
      "Total_Relationship_Count\n",
      "Months_Inactive_12_mon\n",
      "Contacts_Count_12_mon\n",
      "Total_Revolving_Bal\n",
      "Total_Trans_Amt\n",
      "Total_Trans_Ct\n",
      "Total_Ct_Chng_Q4_Q1\n",
      "Gender_M\n",
      "Marital_Status_Married\n"
     ]
    }
   ],
   "source": [
    "# define the model\n",
    "select_2 = SelectFromModel(Lasso(alpha=0.004, random_state=0))\n",
    "\n",
    "#train the model\n",
    "select_2.fit(x_train, y_train)\n",
    "\n",
    "# get support from the model\n",
    "print('FEATURE COUNT:',select_2.get_support().sum())\n",
    "print('')\n",
    "# selected feature\n",
    "feature_lasso_2 = x_train.columns[(select_2.get_support())]\n",
    "print('SELECTED FEATURES:')\n",
    "print(*feature_lasso_2, sep='\\n')"
   ]
  },
  {
   "cell_type": "code",
   "execution_count": 47,
   "id": "ae712385",
   "metadata": {},
   "outputs": [
    {
     "name": "stdout",
     "output_type": "stream",
     "text": [
      "FEATURE COUNT: 17\n",
      "\n",
      "SELECTED FEATURES:\n",
      "Customer_Age\n",
      "Dependent_count\n",
      "Education_Level\n",
      "Card_Category\n",
      "Total_Relationship_Count\n",
      "Months_Inactive_12_mon\n",
      "Contacts_Count_12_mon\n",
      "Total_Revolving_Bal\n",
      "Total_Amt_Chng_Q4_Q1\n",
      "Total_Trans_Amt\n",
      "Total_Trans_Ct\n",
      "Total_Ct_Chng_Q4_Q1\n",
      "Avg_Utilization_Ratio\n",
      "Gender_M\n",
      "Marital_Status_Married\n",
      "Marital_Status_Single\n",
      "Marital_Status_Unknown\n"
     ]
    }
   ],
   "source": [
    "# define the model\n",
    "select_3 = SelectFromModel(Lasso(alpha=0.002, random_state=0))\n",
    "\n",
    "#train the model\n",
    "select_3.fit(x_train, y_train)\n",
    "\n",
    "# get support from the model\n",
    "print('FEATURE COUNT:',select_3.get_support().sum())\n",
    "print('')\n",
    "\n",
    "# selected feature\n",
    "feature_lasso_3 = x_train.columns[(select_3.get_support())]\n",
    "print('SELECTED FEATURES:')\n",
    "print(*feature_lasso_3, sep='\\n')"
   ]
  },
  {
   "cell_type": "code",
   "execution_count": 48,
   "id": "1097f1ad",
   "metadata": {},
   "outputs": [],
   "source": [
    "def log_reg_scores(name, feat):\n",
    "    # modelling\n",
    "    model = LogisticRegression(solver='liblinear', random_state=0)\n",
    "    result = model.fit(x_train[feat], y_train)\n",
    "\n",
    "    # prediction\n",
    "    predicted = result.predict(_X_test[feat])\n",
    "    predicted_proba = result.predict_proba(_X_test[feat])\n",
    "    predicted_proba = [i[1] for i in predicted_proba]\n",
    "\n",
    "    # evaluation\n",
    "    accuracy = accuracy_score(y_true=_y_test, y_pred=predicted)\n",
    "    fscore = f1_score(y_true=_y_test, y_pred=predicted)\n",
    "    aucscore = roc_auc_score(y_true=_y_test, y_score=predicted_proba)\n",
    "\n",
    "    #print\n",
    "    print(\"Logistic Regression Accuracy ({}):\".format(name), accuracy)\n",
    "    print(\"Logistic Regression F-Score ({}):\".format(name), fscore)\n",
    "    print(\"Logistic Regression AUC ({}):\".format(name), aucscore) "
   ]
  },
  {
   "cell_type": "code",
   "execution_count": 49,
   "id": "a7dd8726",
   "metadata": {},
   "outputs": [
    {
     "name": "stdout",
     "output_type": "stream",
     "text": [
      "Logistic Regression Accuracy (all): 0.8560606060606061\n",
      "Logistic Regression F-Score (all): 0.6649874055415618\n",
      "Logistic Regression AUC (all): 0.9169008535784635\n"
     ]
    }
   ],
   "source": [
    "# model with all features\n",
    "log_reg_scores(name='all', feat=feature_all)"
   ]
  },
  {
   "cell_type": "code",
   "execution_count": 50,
   "id": "e01a599c",
   "metadata": {},
   "outputs": [
    {
     "name": "stdout",
     "output_type": "stream",
     "text": [
      "Logistic Regression Accuracy (1st lasso): 0.8203463203463204\n",
      "Logistic Regression F-Score (1st lasso): 0.5921375921375922\n",
      "Logistic Regression AUC (1st lasso): 0.8663286024546695\n"
     ]
    }
   ],
   "source": [
    "# model with lasso 1st iteration\n",
    "log_reg_scores(name='1st lasso', feat=feature_lasso_1)"
   ]
  },
  {
   "cell_type": "code",
   "execution_count": 51,
   "id": "c020148f",
   "metadata": {},
   "outputs": [
    {
     "name": "stdout",
     "output_type": "stream",
     "text": [
      "Logistic Regression Accuracy (2nd lasso): 0.8533549783549783\n",
      "Logistic Regression F-Score (2nd lasso): 0.6608260325406757\n",
      "Logistic Regression AUC (2nd lasso): 0.9189858073640083\n"
     ]
    }
   ],
   "source": [
    "# model with lasso 2nd iteration\n",
    "log_reg_scores(name='2nd lasso', feat=feature_lasso_2)"
   ]
  },
  {
   "cell_type": "code",
   "execution_count": 52,
   "id": "6ecebb7e",
   "metadata": {},
   "outputs": [
    {
     "name": "stdout",
     "output_type": "stream",
     "text": [
      "Logistic Regression Accuracy (3rd lasso): 0.8544372294372294\n",
      "Logistic Regression F-Score (3rd lasso): 0.6633291614518146\n",
      "Logistic Regression AUC (3rd lasso): 0.9168503459770696\n"
     ]
    }
   ],
   "source": [
    "# model with lasso 3rd iteration\n",
    "log_reg_scores(name='3rd lasso', feat=feature_lasso_3)"
   ]
  },
  {
   "cell_type": "code",
   "execution_count": 53,
   "id": "e2325a9e",
   "metadata": {},
   "outputs": [],
   "source": [
    "# redefine input and output variables\n",
    "X = _X[feature_lasso_2]\n",
    "X_train = x_train[feature_lasso_2]\n",
    "y_train = y_train\n",
    "X_test = _X_test[feature_lasso_2]\n",
    "y_test = _y_test"
   ]
  },
  {
   "cell_type": "code",
   "execution_count": 54,
   "id": "4260c045",
   "metadata": {},
   "outputs": [],
   "source": [
    "### define functions to display visualization\n",
    "\n",
    "# confusion matrix visualization\n",
    "def confusion_matrix_heatmap(conf_mat):\n",
    "    conf_mat_prop = conf_mat / conf_mat.sum()\n",
    "    conf_mat_prop = pd.DataFrame(conf_mat_prop)\n",
    "    \n",
    "    plt.figure(figsize=(7,5))\n",
    "    _ = sns.heatmap(conf_mat_prop, annot = True, cmap = \"Blues\", vmin = 0, vmax = 1)\n",
    "    _.set_title(\"Proportional Confusion Matrix\")\n",
    "    _.set(xlabel = \"Predicted Value\", ylabel = \"Actual Value\")\n",
    "    \n",
    "    return plt.show()\n",
    "# AUC visualization\n",
    "def auc_visualization(y_test_fold, predicted_proba):\n",
    "    # Create no-skill model\n",
    "    ns_proba = [0 for _ in range(len(y_test_fold))]\n",
    "    ns_fpr, ns_tpr, _ = roc_curve(y_true = y_test_fold, y_score = ns_proba)\n",
    "\n",
    "    model_fpr, model_tpr, _ = roc_curve(y_true = y_test_fold, y_score = predicted_proba)\n",
    "    \n",
    "    plt.figure(figsize=(7,5))\n",
    "    _ = plt.plot(ns_fpr, ns_tpr, linestyle = \"--\", label = \"No-skill model\")\n",
    "    _ = plt.plot(model_fpr, model_tpr, marker = \".\", label = \"Best model\")\n",
    "    _ = plt.title(\"Receiver Operating Characteristic Curve\")\n",
    "    _ = plt.xlabel('False Positive Rate')\n",
    "    _ = plt.ylabel('True Positive Rate')\n",
    "    _ = plt.legend()\n",
    "    \n",
    "    return plt.show()"
   ]
  },
  {
   "cell_type": "code",
   "execution_count": 55,
   "id": "0cb89b2f",
   "metadata": {},
   "outputs": [
    {
     "name": "stdout",
     "output_type": "stream",
     "text": [
      "Logistic Regression Confusion Matrix:\n",
      "[[1313  210]\n",
      " [  61  264]]\n",
      "\n",
      "\n",
      "\n"
     ]
    },
    {
     "data": {
      "image/png": "[encoded data removed]",
      "text/plain": [
       "<Figure size 504x360 with 2 Axes>"
      ]
     },
     "metadata": {
      "needs_background": "light"
     },
     "output_type": "display_data"
    },
    {
     "name": "stdout",
     "output_type": "stream",
     "text": [
      "\n",
      "\n",
      "\n",
      "Logistic Regression Accuracy: 0.853\n",
      "Logistic Regression F-Score: 0.661\n",
      "Logistic Regression AUC: 0.919\n",
      "\n",
      "\n",
      "\n"
     ]
    },
    {
     "data": {
      "image/png": "[encoded data removed]",
      "text/plain": [
       "<Figure size 504x360 with 1 Axes>"
      ]
     },
     "metadata": {
      "needs_background": "light"
     },
     "output_type": "display_data"
    }
   ],
   "source": [
    "# define the model\n",
    "lg_model = LogisticRegression(solver='liblinear', random_state=0)\n",
    "\n",
    "# train the model\n",
    "lg_result = lg_model.fit(X_train, y_train)\n",
    "\n",
    "# prediction\n",
    "lg_predicted = lg_result.predict(X_test)\n",
    "lg_predicted_proba = lg_result.predict_proba(X_test)\n",
    "lg_predicted_proba = [i[1] for i in lg_predicted_proba]\n",
    "\n",
    "# confusion matrix\n",
    "lg_conf_mat = confusion_matrix(y_true = y_test, y_pred = lg_predicted)\n",
    "print(\"Logistic Regression Confusion Matrix:\")\n",
    "print(lg_conf_mat)\n",
    "print('\\n\\n')\n",
    "# display confusion matrix heatmap\n",
    "confusion_matrix_heatmap(lg_conf_mat)\n",
    "\n",
    "print('\\n\\n')\n",
    "\n",
    "# Evaluation\n",
    "lg_accuracy = accuracy_score(y_true = y_test, y_pred = lg_predicted)\n",
    "lg_fscore = f1_score(y_true = y_test, y_pred = lg_predicted)\n",
    "lg_roc_auc = roc_auc_score(y_true = y_test, y_score = lg_predicted_proba)\n",
    "print(\"Logistic Regression Accuracy:\", round(lg_accuracy,3))\n",
    "print(\"Logistic Regression F-Score:\", round(lg_fscore, 3))\n",
    "print(\"Logistic Regression AUC:\", round(lg_roc_auc, 3))\n",
    "print('\\n\\n')\n",
    "# display ROC curve\n",
    "auc_visualization(y_test, lg_predicted_proba)"
   ]
  },
  {
   "cell_type": "code",
   "execution_count": 56,
   "id": "0a20954f",
   "metadata": {},
   "outputs": [
    {
     "name": "stdout",
     "output_type": "stream",
     "text": [
      "              precision    recall  f1-score   support\n",
      "\n",
      "           0       0.96      0.86      0.91      1523\n",
      "           1       0.56      0.81      0.66       325\n",
      "\n",
      "    accuracy                           0.85      1848\n",
      "   macro avg       0.76      0.84      0.78      1848\n",
      "weighted avg       0.89      0.85      0.86      1848\n",
      "\n"
     ]
    }
   ],
   "source": [
    "from sklearn.metrics import classification_report\n",
    "print(classification_report(_y_test,lg_predicted))"
   ]
  },
  {
   "cell_type": "code",
   "execution_count": null,
   "id": "262297ff",
   "metadata": {},
   "outputs": [],
   "source": []
  },
  {
   "cell_type": "code",
   "execution_count": null,
   "id": "9f9b0ba5",
   "metadata": {},
   "outputs": [],
   "source": []
  },
  {
   "cell_type": "code",
   "execution_count": 61,
   "id": "ff225ab0",
   "metadata": {},
   "outputs": [],
   "source": [
    "###knn"
   ]
  },
  {
   "cell_type": "code",
   "execution_count": 62,
   "id": "67104e49",
   "metadata": {},
   "outputs": [],
   "source": [
    "# import required libraries\n",
    "from sklearn.neighbors import KNeighborsClassifier"
   ]
  },
  {
   "cell_type": "code",
   "execution_count": 63,
   "id": "a6c17c6c",
   "metadata": {},
   "outputs": [
    {
     "name": "stdout",
     "output_type": "stream",
     "text": [
      "k-NN Confusion Matrix:\n",
      "[[1101  422]\n",
      " [ 134  191]]\n",
      "\n",
      "\n",
      "\n"
     ]
    },
    {
     "data": {
      "image/png": "[encoded data removed]",
      "text/plain": [
       "<Figure size 504x360 with 2 Axes>"
      ]
     },
     "metadata": {
      "needs_background": "light"
     },
     "output_type": "display_data"
    },
    {
     "name": "stdout",
     "output_type": "stream",
     "text": [
      "\n",
      "\n",
      "\n",
      "k-NN Accuracy: 0.699\n",
      "k-NN F-Score: 0.407\n",
      "k-NN AUC: 0.685\n",
      "\n",
      "\n",
      "\n"
     ]
    },
    {
     "data": {
      "image/png": "[encoded data removed]",
      "text/plain": [
       "<Figure size 504x360 with 1 Axes>"
      ]
     },
     "metadata": {
      "needs_background": "light"
     },
     "output_type": "display_data"
    }
   ],
   "source": [
    "# define the model\n",
    "knn_model = KNeighborsClassifier()\n",
    "\n",
    "# train the model\n",
    "knn_result = knn_model.fit(x_train, y_train)\n",
    "\n",
    "# prediction\n",
    "knn_predicted = knn_result.predict(_X_test)\n",
    "knn_predicted_proba = knn_result.predict_proba(_X_test)\n",
    "knn_predicted_proba = [i[1] for i in knn_predicted_proba]\n",
    "\n",
    "# confusion matrix\n",
    "knn_conf_mat = confusion_matrix(y_true = _y_test, y_pred = knn_predicted)\n",
    "print(\"k-NN Confusion Matrix:\")\n",
    "print(knn_conf_mat)\n",
    "print('\\n\\n')\n",
    "# display confusion matrix heatmap\n",
    "confusion_matrix_heatmap(knn_conf_mat)\n",
    "\n",
    "print('\\n\\n')\n",
    "\n",
    "# Evaluation\n",
    "knn_accuracy = accuracy_score(y_true = _y_test, y_pred = knn_predicted)\n",
    "knn_fscore = f1_score(y_true = _y_test, y_pred = knn_predicted)\n",
    "knn_roc_auc = roc_auc_score(y_true = _y_test, y_score = knn_predicted_proba)\n",
    "print(\"k-NN Accuracy:\", round(knn_accuracy,3))\n",
    "print(\"k-NN F-Score:\", round(knn_fscore, 3))\n",
    "print(\"k-NN AUC:\", round(knn_roc_auc, 3))\n",
    "print('\\n\\n')\n",
    "# display ROC curve\n",
    "auc_visualization(_y_test, knn_predicted_proba)"
   ]
  },
  {
   "cell_type": "code",
   "execution_count": 64,
   "id": "34ab8346",
   "metadata": {},
   "outputs": [
    {
     "name": "stdout",
     "output_type": "stream",
     "text": [
      "Fitting 10 folds for each of 264 candidates, totalling 2640 fits\n"
     ]
    }
   ],
   "source": [
    "# specify parameters\n",
    "knn_param_grid_1 = {'n_neighbors': list(range(1,22,2)),\n",
    "                    'metric': ['euclidean', 'manhattan', 'minkowski'],\n",
    "                    'weights': ['uniform', 'distance'],\n",
    "                    'algorithm': ['auto', 'ball_tree', 'kd_tree', 'brute'],\n",
    "                    }\n",
    "\n",
    "# search algorithm\n",
    "knn_search_1 = GridSearchCV(knn_model,\n",
    "                           knn_param_grid_1,\n",
    "                           scoring = 'roc_auc',\n",
    "                           cv = 10,\n",
    "                           n_jobs = -1,\n",
    "                           verbose = 1)\n",
    "\n",
    "# train\n",
    "knn_tune_result_1 = knn_search_1.fit(x_train, y_train)"
   ]
  },
  {
   "cell_type": "code",
   "execution_count": 65,
   "id": "f1c2678c",
   "metadata": {},
   "outputs": [
    {
     "name": "stdout",
     "output_type": "stream",
     "text": [
      "Best hyperparameter: {'algorithm': 'auto', 'metric': 'manhattan', 'n_neighbors': 9, 'weights': 'distance'}\n"
     ]
    }
   ],
   "source": [
    "# best hyperparameter\n",
    "print('Best hyperparameter:', knn_tune_result_1.best_params_)"
   ]
  },
  {
   "cell_type": "code",
   "execution_count": 66,
   "id": "b134f317",
   "metadata": {},
   "outputs": [
    {
     "name": "stdout",
     "output_type": "stream",
     "text": [
      "Fitting 10 folds for each of 3 candidates, totalling 30 fits\n"
     ]
    }
   ],
   "source": [
    "# specify parameters\n",
    "knn_param_grid_2 = {'n_neighbors': [8,9,10],\n",
    "                    'metric': ['manhattan'],\n",
    "                    'weights': ['distance'],\n",
    "                    'algorithm': ['auto'],\n",
    "                    }\n",
    "\n",
    "# search algorithm\n",
    "knn_search_2 = GridSearchCV(knn_model,\n",
    "                           knn_param_grid_2,\n",
    "                           scoring = 'roc_auc',\n",
    "                           cv = 10,\n",
    "                           n_jobs = -1,\n",
    "                           verbose = 1)\n",
    "\n",
    "# train\n",
    "knn_tune_result_2 = knn_search_2.fit(x_train, y_train)"
   ]
  },
  {
   "cell_type": "code",
   "execution_count": 67,
   "id": "01640ef5",
   "metadata": {},
   "outputs": [
    {
     "name": "stdout",
     "output_type": "stream",
     "text": [
      "Best hyperparameter: {'algorithm': 'auto', 'metric': 'manhattan', 'n_neighbors': 8, 'weights': 'distance'}\n"
     ]
    }
   ],
   "source": [
    "# best hyperparameter\n",
    "print('Best hyperparameter:', knn_tune_result_2.best_params_)"
   ]
  },
  {
   "cell_type": "code",
   "execution_count": 68,
   "id": "ea8a7366",
   "metadata": {},
   "outputs": [
    {
     "name": "stdout",
     "output_type": "stream",
     "text": [
      "Fitting 10 folds for each of 4 candidates, totalling 40 fits\n"
     ]
    }
   ],
   "source": [
    "# specify parameters\n",
    "knn_param_grid_3 = {'n_neighbors': [7,8,9,10],\n",
    "                    'metric': ['manhattan'],\n",
    "                    'weights': ['distance'],\n",
    "                    'algorithm': ['auto'],\n",
    "                    }\n",
    "\n",
    "# search algorithm\n",
    "knn_search_3 = GridSearchCV(knn_model,\n",
    "                           knn_param_grid_3,\n",
    "                           scoring = 'roc_auc',\n",
    "                           cv = 10,\n",
    "                           verbose = 1)\n",
    "\n",
    "# train\n",
    "knn_tune_result_3 = knn_search_3.fit(x_train, y_train)"
   ]
  },
  {
   "cell_type": "code",
   "execution_count": 69,
   "id": "9c87b0a5",
   "metadata": {},
   "outputs": [
    {
     "name": "stdout",
     "output_type": "stream",
     "text": [
      "Best hyperparameter: {'algorithm': 'auto', 'metric': 'manhattan', 'n_neighbors': 8, 'weights': 'distance'}\n"
     ]
    }
   ],
   "source": [
    "# best hyperparameter\n",
    "print('Best hyperparameter:', knn_tune_result_3.best_params_)"
   ]
  },
  {
   "cell_type": "code",
   "execution_count": 70,
   "id": "7d234c2d",
   "metadata": {},
   "outputs": [
    {
     "name": "stdout",
     "output_type": "stream",
     "text": [
      "Best score 1st: 0.978490244164305\n",
      "Best score 2nd: 0.9789558621184712\n",
      "Best score 3rd: 0.9789558621184712\n"
     ]
    }
   ],
   "source": [
    "print('Best score 1st:', knn_tune_result_1.best_score_)\n",
    "print('Best score 2nd:', knn_tune_result_2.best_score_)\n",
    "print('Best score 3rd:', knn_tune_result_3.best_score_)"
   ]
  },
  {
   "cell_type": "code",
   "execution_count": 71,
   "id": "d416a85f",
   "metadata": {},
   "outputs": [
    {
     "name": "stdout",
     "output_type": "stream",
     "text": [
      "New k-NN Confusion Matrix:\n",
      "[[1233  290]\n",
      " [ 124  201]]\n",
      "\n",
      "\n",
      "\n"
     ]
    },
    {
     "data": {
      "image/png": "[encoded data removed]",
      "text/plain": [
       "<Figure size 504x360 with 2 Axes>"
      ]
     },
     "metadata": {
      "needs_background": "light"
     },
     "output_type": "display_data"
    },
    {
     "name": "stdout",
     "output_type": "stream",
     "text": [
      "\n",
      "\n",
      "\n",
      "New k-NN Accuracy: 0.776\n",
      "New k-NN F-Score: 0.493\n",
      "New k-NN AUC: 0.78\n",
      "\n",
      "\n",
      "\n"
     ]
    },
    {
     "data": {
      "image/png": "[encoded data removed]",
      "text/plain": [
       "<Figure size 504x360 with 1 Axes>"
      ]
     },
     "metadata": {
      "needs_background": "light"
     },
     "output_type": "display_data"
    }
   ],
   "source": [
    "# define the model\n",
    "new_knn_model = KNeighborsClassifier(**knn_tune_result_3.best_params_)\n",
    "\n",
    "# train the model\n",
    "new_knn_result = new_knn_model.fit(x_train, y_train)\n",
    "\n",
    "# prediction\n",
    "new_knn_predicted = new_knn_result.predict(_X_test)\n",
    "new_knn_predicted_proba = new_knn_result.predict_proba(_X_test)\n",
    "new_knn_predicted_proba = [i[1] for i in new_knn_predicted_proba]\n",
    "\n",
    "# confusion matrix\n",
    "new_knn_conf_mat = confusion_matrix(y_true = _y_test, y_pred = new_knn_predicted)\n",
    "print(\"New k-NN Confusion Matrix:\")\n",
    "print(new_knn_conf_mat)\n",
    "print('\\n\\n')\n",
    "# display confusion matrix heatmap\n",
    "confusion_matrix_heatmap(new_knn_conf_mat)\n",
    "\n",
    "print('\\n\\n')\n",
    "\n",
    "# Evaluation\n",
    "new_knn_accuracy = accuracy_score(y_true = _y_test, y_pred = new_knn_predicted)\n",
    "new_knn_fscore = f1_score(y_true = _y_test, y_pred = new_knn_predicted)\n",
    "new_knn_roc_auc = roc_auc_score(y_true = _y_test, y_score = new_knn_predicted_proba)\n",
    "print(\"New k-NN Accuracy:\", round(new_knn_accuracy,3))\n",
    "print(\"New k-NN F-Score:\", round(new_knn_fscore, 3))\n",
    "print(\"New k-NN AUC:\", round(new_knn_roc_auc, 3))\n",
    "print('\\n\\n')\n",
    "# display ROC curve\n",
    "auc_visualization(_y_test, new_knn_predicted_proba)"
   ]
  },
  {
   "cell_type": "code",
   "execution_count": 72,
   "id": "f55cce88",
   "metadata": {},
   "outputs": [
    {
     "name": "stdout",
     "output_type": "stream",
     "text": [
      "              precision    recall  f1-score   support\n",
      "\n",
      "           0       0.91      0.81      0.86      1523\n",
      "           1       0.41      0.62      0.49       325\n",
      "\n",
      "    accuracy                           0.78      1848\n",
      "   macro avg       0.66      0.71      0.67      1848\n",
      "weighted avg       0.82      0.78      0.79      1848\n",
      "\n"
     ]
    }
   ],
   "source": [
    "from sklearn.metrics import classification_report\n",
    "print(classification_report(_y_test,new_knn_predicted))"
   ]
  },
  {
   "cell_type": "code",
   "execution_count": 73,
   "id": "e26be9ea",
   "metadata": {},
   "outputs": [
    {
     "name": "stdout",
     "output_type": "stream",
     "text": [
      "k-NN Accuracy: 0.6991\n",
      "k-NN F-Score: 0.4072\n",
      "k-NN AUC: 0.6855\n",
      "===\n",
      "New k-NN Accuracy: 0.776\n",
      "New k-NN F-Score: 0.4926\n",
      "New k-NN AUC: 0.7802\n"
     ]
    }
   ],
   "source": [
    "# comparison\n",
    "print(\"k-NN Accuracy:\", round(knn_accuracy,4))\n",
    "print(\"k-NN F-Score:\", round(knn_fscore, 4))\n",
    "print(\"k-NN AUC:\", round(knn_roc_auc, 4))\n",
    "print('===')\n",
    "print(\"New k-NN Accuracy:\", round(new_knn_accuracy,4))\n",
    "print(\"New k-NN F-Score:\", round(new_knn_fscore, 4))\n",
    "print(\"New k-NN AUC:\", round(new_knn_roc_auc, 4))"
   ]
  },
  {
   "cell_type": "code",
   "execution_count": null,
   "id": "b5fa679d",
   "metadata": {},
   "outputs": [],
   "source": []
  },
  {
   "cell_type": "code",
   "execution_count": 57,
   "id": "447ccfc4",
   "metadata": {},
   "outputs": [],
   "source": [
    "import pandas as pd\n",
    "from sklearn.ensemble import RandomForestClassifier\n",
    "from sklearn.feature_selection import SelectFromModel"
   ]
  },
  {
   "cell_type": "code",
   "execution_count": 58,
   "id": "2be73a7b",
   "metadata": {},
   "outputs": [
    {
     "name": "stdout",
     "output_type": "stream",
     "text": [
      "Random Forest Confusion Matrix:\n",
      "[[1475   48]\n",
      " [  45  280]]\n",
      "\n",
      "\n",
      "\n"
     ]
    },
    {
     "data": {
      "image/png": "[encoded data removed]",
      "text/plain": [
       "<Figure size 504x360 with 2 Axes>"
      ]
     },
     "metadata": {
      "needs_background": "light"
     },
     "output_type": "display_data"
    },
    {
     "name": "stdout",
     "output_type": "stream",
     "text": [
      "\n",
      "\n",
      "\n",
      "Random Forest Accuracy: 0.95\n",
      "Random Forest F-Score: 0.858\n",
      "Random Forest AUC: 0.982\n",
      "\n",
      "\n",
      "\n"
     ]
    },
    {
     "data": {
      "image/png": "[encoded data removed]",
      "text/plain": [
       "<Figure size 504x360 with 1 Axes>"
      ]
     },
     "metadata": {
      "needs_background": "light"
     },
     "output_type": "display_data"
    }
   ],
   "source": [
    "# define the model\n",
    "rf_model = RandomForestClassifier(random_state=0)\n",
    "\n",
    "# train the model\n",
    "rf_result = rf_model.fit(x_train, y_train)\n",
    "\n",
    "# prediction\n",
    "rf_predicted = rf_result.predict(_X_test)\n",
    "rf_predicted_proba = rf_result.predict_proba(_X_test)\n",
    "rf_predicted_proba = [i[1] for i in rf_predicted_proba]\n",
    "\n",
    "# confusion matrix\n",
    "rf_conf_mat = confusion_matrix(y_true = _y_test, y_pred = rf_predicted)\n",
    "print(\"Random Forest Confusion Matrix:\")\n",
    "print(rf_conf_mat)\n",
    "print('\\n\\n')\n",
    "# display confusion matrix heatmap\n",
    "confusion_matrix_heatmap(rf_conf_mat)\n",
    "\n",
    "print('\\n\\n')\n",
    "\n",
    "# Evaluation\n",
    "rf_accuracy = accuracy_score(y_true = _y_test, y_pred = rf_predicted)\n",
    "rf_fscore = f1_score(y_true = _y_test, y_pred = rf_predicted)\n",
    "rf_roc_auc = roc_auc_score(y_true = _y_test, y_score = rf_predicted_proba)\n",
    "print(\"Random Forest Accuracy:\", round(rf_accuracy,3))\n",
    "print(\"Random Forest F-Score:\", round(rf_fscore, 3))\n",
    "print(\"Random Forest AUC:\", round(rf_roc_auc, 3))\n",
    "print('\\n\\n')\n",
    "# display ROC curve\n",
    "auc_visualization(_y_test, rf_predicted_proba)"
   ]
  },
  {
   "cell_type": "code",
   "execution_count": 59,
   "id": "ccce99d7",
   "metadata": {},
   "outputs": [
    {
     "data": {
      "text/plain": [
       "DecisionTreeClassifier(max_features='auto', random_state=209652396)"
      ]
     },
     "execution_count": 59,
     "metadata": {},
     "output_type": "execute_result"
    }
   ],
   "source": [
    "rf_model.estimators_[0]"
   ]
  },
  {
   "cell_type": "code",
   "execution_count": 76,
   "id": "e2466255",
   "metadata": {},
   "outputs": [
    {
     "name": "stdout",
     "output_type": "stream",
     "text": [
      "              precision    recall  f1-score   support\n",
      "\n",
      "           0       0.97      0.97      0.97      1523\n",
      "           1       0.85      0.86      0.86       325\n",
      "\n",
      "    accuracy                           0.95      1848\n",
      "   macro avg       0.91      0.92      0.91      1848\n",
      "weighted avg       0.95      0.95      0.95      1848\n",
      "\n"
     ]
    }
   ],
   "source": [
    "from sklearn.metrics import classification_report\n",
    "print(classification_report(_y_test,rf_predicted))"
   ]
  },
  {
   "cell_type": "code",
   "execution_count": 77,
   "id": "21cb3c7f",
   "metadata": {},
   "outputs": [
    {
     "name": "stdout",
     "output_type": "stream",
     "text": [
      "Fitting 5 folds for each of 324 candidates, totalling 1620 fits\n"
     ]
    }
   ],
   "source": [
    "# specify parameters\n",
    "rf_param_grid_1 = {'n_estimators': [10,100,1000],\n",
    "                   'max_depth': [5, 10, 15],\n",
    "                   'min_samples_split': [2,3,4,5],\n",
    "                   'min_samples_leaf': [1,2,3],\n",
    "                   'max_features': ['auto','sqrt','log2']\n",
    "                   }\n",
    "\n",
    "# search algorithm\n",
    "rf_search_1 = GridSearchCV(rf_model,\n",
    "                           rf_param_grid_1,\n",
    "                           scoring = 'roc_auc',\n",
    "                           cv = 5,\n",
    "                           n_jobs=-1,\n",
    "                           verbose = 1)\n",
    "\n",
    "# train\n",
    "rf_tune_result_1 = rf_search_1.fit(x_train, y_train)"
   ]
  },
  {
   "cell_type": "code",
   "execution_count": 78,
   "id": "9e9fbfd5",
   "metadata": {},
   "outputs": [
    {
     "name": "stdout",
     "output_type": "stream",
     "text": [
      "Best hyperparameter: {'max_depth': 15, 'max_features': 'auto', 'min_samples_leaf': 1, 'min_samples_split': 2, 'n_estimators': 1000}\n"
     ]
    }
   ],
   "source": [
    "# best hyperparameter\n",
    "print('Best hyperparameter:', rf_tune_result_1.best_params_)"
   ]
  },
  {
   "cell_type": "code",
   "execution_count": 79,
   "id": "11653d7c",
   "metadata": {},
   "outputs": [
    {
     "name": "stdout",
     "output_type": "stream",
     "text": [
      "Fitting 5 folds for each of 12 candidates, totalling 60 fits\n"
     ]
    }
   ],
   "source": [
    "# specify parameters\n",
    "rf_param_grid_2 = {'n_estimators': [900, 1000, 1100, 1200],\n",
    "                   'max_depth': [14, 15, 16],\n",
    "                   'min_samples_split': [2],\n",
    "                   'min_samples_leaf': [1],\n",
    "                   'max_features': ['auto']\n",
    "                   }\n",
    "\n",
    "\n",
    "# search algorithm\n",
    "rf_search_2 = GridSearchCV(rf_model,\n",
    "                           rf_param_grid_2,\n",
    "                           scoring = 'roc_auc',\n",
    "                           cv = 5,\n",
    "                           n_jobs=-1,\n",
    "                           verbose = 1)\n",
    "\n",
    "# train\n",
    "rf_tune_result_2 = rf_search_2.fit(x_train, y_train)"
   ]
  },
  {
   "cell_type": "code",
   "execution_count": 80,
   "id": "a52f2df1",
   "metadata": {},
   "outputs": [
    {
     "name": "stdout",
     "output_type": "stream",
     "text": [
      "Best hyperparameter: {'max_depth': 16, 'max_features': 'auto', 'min_samples_leaf': 1, 'min_samples_split': 2, 'n_estimators': 1100}\n"
     ]
    }
   ],
   "source": [
    "# best hyperparameter\n",
    "print('Best hyperparameter:', rf_tune_result_2.best_params_)"
   ]
  },
  {
   "cell_type": "code",
   "execution_count": 81,
   "id": "54e6a987",
   "metadata": {},
   "outputs": [
    {
     "name": "stdout",
     "output_type": "stream",
     "text": [
      "Fitting 5 folds for each of 3 candidates, totalling 15 fits\n"
     ]
    }
   ],
   "source": [
    "# specify parameters\n",
    "rf_param_grid_3 = {'n_estimators': [700, 800, 900],\n",
    "                   'max_depth': [15],\n",
    "                   'min_samples_split': [2],\n",
    "                   'min_samples_leaf': [1],\n",
    "                   'max_features': ['auto']\n",
    "                   }\n",
    "\n",
    "# search algorithm\n",
    "rf_search_3 = GridSearchCV(rf_model,\n",
    "                           rf_param_grid_3,\n",
    "                           scoring = 'roc_auc',\n",
    "                           cv = 5,\n",
    "                           n_jobs=-1,\n",
    "                           verbose = 1)\n",
    "\n",
    "# train\n",
    "rf_tune_result_3 = rf_search_3.fit(x_train, y_train)"
   ]
  },
  {
   "cell_type": "code",
   "execution_count": 82,
   "id": "941c138b",
   "metadata": {},
   "outputs": [
    {
     "name": "stdout",
     "output_type": "stream",
     "text": [
      "Best hyperparameter: {'max_depth': 15, 'max_features': 'auto', 'min_samples_leaf': 1, 'min_samples_split': 2, 'n_estimators': 800}\n"
     ]
    }
   ],
   "source": [
    "# best hyperparameter\n",
    "print('Best hyperparameter:', rf_tune_result_3.best_params_)"
   ]
  },
  {
   "cell_type": "code",
   "execution_count": 82,
   "id": "bd39c990",
   "metadata": {},
   "outputs": [
    {
     "name": "stdout",
     "output_type": "stream",
     "text": [
      "Fitting 5 folds for each of 8 candidates, totalling 40 fits\n"
     ]
    }
   ],
   "source": [
    "# specify parameters\n",
    "rf_param_grid_4 = {'n_estimators': [840, 860, 880, 900],\n",
    "                   'max_depth': [15],\n",
    "                   'min_samples_split': [2],\n",
    "                   'min_samples_leaf': [1],\n",
    "                   'max_features': ['auto'],\n",
    "                   'criterion': ['gini','entropy']  #new hyperparameter addition\n",
    "                   }\n",
    "\n",
    "# search algorithm\n",
    "rf_search_4 = GridSearchCV(rf_model,\n",
    "                           rf_param_grid_4,\n",
    "                           scoring = 'roc_auc',\n",
    "                           cv = 5,\n",
    "                           n_jobs=-1,\n",
    "                           verbose = 1)\n",
    "\n",
    "# train\n",
    "rf_tune_result_4 = rf_search_4.fit(x_train, y_train)"
   ]
  },
  {
   "cell_type": "code",
   "execution_count": 83,
   "id": "1071988e",
   "metadata": {},
   "outputs": [
    {
     "name": "stdout",
     "output_type": "stream",
     "text": [
      "Best hyperparameter: {'criterion': 'entropy', 'max_depth': 15, 'max_features': 'auto', 'min_samples_leaf': 1, 'min_samples_split': 2, 'n_estimators': 840}\n"
     ]
    }
   ],
   "source": [
    "# best hyperparameter\n",
    "print('Best hyperparameter:', rf_tune_result_4.best_params_)"
   ]
  },
  {
   "cell_type": "code",
   "execution_count": 84,
   "id": "4030e851",
   "metadata": {},
   "outputs": [
    {
     "name": "stdout",
     "output_type": "stream",
     "text": [
      "Fitting 10 folds for each of 4 candidates, totalling 40 fits\n"
     ]
    }
   ],
   "source": [
    "# specify parameters\n",
    "rf_param_grid_5 = {'n_estimators': [890, 895,900, 905],\n",
    "                   'max_depth': [15],\n",
    "                   'min_samples_split': [2],\n",
    "                   'min_samples_leaf': [1],\n",
    "                   'max_features': ['auto'],\n",
    "                   'criterion': ['entropy']\n",
    "                   }\n",
    "\n",
    "# search algorithm\n",
    "rf_search_5 = GridSearchCV(rf_model,\n",
    "                           rf_param_grid_5,\n",
    "                           scoring = 'roc_auc',\n",
    "                           cv = 10,\n",
    "                           n_jobs=-1,\n",
    "                           verbose = 1)\n",
    "\n",
    "# train\n",
    "rf_tune_result_5 = rf_search_5.fit(x_train, y_train)"
   ]
  },
  {
   "cell_type": "code",
   "execution_count": 85,
   "id": "794073e5",
   "metadata": {},
   "outputs": [
    {
     "name": "stdout",
     "output_type": "stream",
     "text": [
      "Best hyperparameter: {'criterion': 'entropy', 'max_depth': 15, 'max_features': 'auto', 'min_samples_leaf': 1, 'min_samples_split': 2, 'n_estimators': 890}\n"
     ]
    }
   ],
   "source": [
    "# best hyperparameter\n",
    "print('Best hyperparameter:', rf_tune_result_5.best_params_)"
   ]
  },
  {
   "cell_type": "code",
   "execution_count": 86,
   "id": "97e7b3a3",
   "metadata": {},
   "outputs": [
    {
     "name": "stdout",
     "output_type": "stream",
     "text": [
      "Best score 1st: 0.9958638531740986\n",
      "Best score 2nd: 0.9959733229489393\n",
      "Best score 3rd: 0.9958482225910743\n",
      "Best score 4th: 0.9961269374710124\n",
      "Best score 5th: 0.9965003652578943\n"
     ]
    }
   ],
   "source": [
    "print('Best score 1st:', rf_tune_result_1.best_score_)\n",
    "print('Best score 2nd:', rf_tune_result_2.best_score_)\n",
    "print('Best score 3rd:', rf_tune_result_3.best_score_)\n",
    "print('Best score 4th:', rf_tune_result_4.best_score_)\n",
    "print('Best score 5th:', rf_tune_result_5.best_score_)"
   ]
  },
  {
   "cell_type": "code",
   "execution_count": 87,
   "id": "87a00c0d",
   "metadata": {},
   "outputs": [
    {
     "name": "stdout",
     "output_type": "stream",
     "text": [
      "New Random Forest Confusion Matrix:\n",
      "[[1474   49]\n",
      " [  39  286]]\n",
      "\n",
      "\n",
      "\n"
     ]
    },
    {
     "data": {
      "image/png": "[encoded data removed]",
      "text/plain": [
       "<Figure size 504x360 with 2 Axes>"
      ]
     },
     "metadata": {
      "needs_background": "light"
     },
     "output_type": "display_data"
    },
    {
     "name": "stdout",
     "output_type": "stream",
     "text": [
      "\n",
      "\n",
      "\n",
      "New Random Forest Accuracy: 0.952\n",
      "New Random Forest F-Score: 0.867\n",
      "New Random Forest AUC: 0.984\n",
      "\n",
      "\n",
      "\n"
     ]
    },
    {
     "data": {
      "image/png": "[encoded data removed]",
      "text/plain": [
       "<Figure size 504x360 with 1 Axes>"
      ]
     },
     "metadata": {
      "needs_background": "light"
     },
     "output_type": "display_data"
    }
   ],
   "source": [
    "# define the model\n",
    "new_rf_model = RandomForestClassifier(random_state=0, **rf_tune_result_4.best_params_)\n",
    "\n",
    "# train the model\n",
    "new_rf_result = new_rf_model.fit(x_train, y_train)\n",
    "\n",
    "# prediction\n",
    "new_rf_predicted = new_rf_result.predict(_X_test)\n",
    "new_rf_predicted_proba = new_rf_result.predict_proba(_X_test)\n",
    "new_rf_predicted_proba = [i[1] for i in new_rf_predicted_proba]\n",
    "\n",
    "# confusion matrix\n",
    "new_rf_conf_mat = confusion_matrix(y_true = _y_test, y_pred = new_rf_predicted)\n",
    "print(\"New Random Forest Confusion Matrix:\")\n",
    "print(new_rf_conf_mat)\n",
    "print('\\n\\n')\n",
    "# display confusion matrix heatmap\n",
    "confusion_matrix_heatmap(new_rf_conf_mat)\n",
    "\n",
    "print('\\n\\n')\n",
    "\n",
    "# Evaluation\n",
    "new_rf_accuracy = accuracy_score(y_true = _y_test, y_pred = new_rf_predicted)\n",
    "new_rf_fscore = f1_score(y_true = _y_test, y_pred = new_rf_predicted)\n",
    "new_rf_roc_auc = roc_auc_score(y_true = _y_test, y_score = new_rf_predicted_proba)\n",
    "print(\"New Random Forest Accuracy:\", round(new_rf_accuracy,3))\n",
    "print(\"New Random Forest F-Score:\", round(new_rf_fscore, 3))\n",
    "print(\"New Random Forest AUC:\", round(new_rf_roc_auc, 3))\n",
    "print('\\n\\n')\n",
    "# display ROC curve\n",
    "auc_visualization(_y_test, new_rf_predicted_proba)"
   ]
  },
  {
   "cell_type": "code",
   "execution_count": 88,
   "id": "d6f35982",
   "metadata": {},
   "outputs": [
    {
     "name": "stdout",
     "output_type": "stream",
     "text": [
      "              precision    recall  f1-score   support\n",
      "\n",
      "           0       0.97      0.97      0.97      1523\n",
      "           1       0.85      0.88      0.87       325\n",
      "\n",
      "    accuracy                           0.95      1848\n",
      "   macro avg       0.91      0.92      0.92      1848\n",
      "weighted avg       0.95      0.95      0.95      1848\n",
      "\n"
     ]
    }
   ],
   "source": [
    "from sklearn.metrics import classification_report\n",
    "print(classification_report(_y_test,new_rf_predicted))"
   ]
  },
  {
   "cell_type": "code",
   "execution_count": null,
   "id": "5d3e3b8b",
   "metadata": {},
   "outputs": [],
   "source": [
    "\n"
   ]
  },
  {
   "cell_type": "markdown",
   "id": "b6358b0d",
   "metadata": {},
   "source": [
    "# Ignore"
   ]
  },
  {
   "cell_type": "code",
   "execution_count": 89,
   "id": "e5b7e6a8",
   "metadata": {},
   "outputs": [
    {
     "name": "stdout",
     "output_type": "stream",
     "text": [
      "New Random Forest Confusion Matrix:\n",
      "[[1430   93]\n",
      " [  38  287]]\n",
      "\n",
      "\n",
      "\n"
     ]
    },
    {
     "data": {
      "image/png": "[encoded data removed]",
      "text/plain": [
       "<Figure size 504x360 with 2 Axes>"
      ]
     },
     "metadata": {
      "needs_background": "light"
     },
     "output_type": "display_data"
    },
    {
     "name": "stdout",
     "output_type": "stream",
     "text": [
      "\n",
      "\n",
      "\n",
      "New Random Forest Accuracy: 0.929\n",
      "New Random Forest F-Score: 0.867\n",
      "New Random Forest AUC: 0.973\n",
      "\n",
      "\n",
      "\n"
     ]
    },
    {
     "data": {
      "image/png": "[encoded data removed]",
      "text/plain": [
       "<Figure size 504x360 with 1 Axes>"
      ]
     },
     "metadata": {
      "needs_background": "light"
     },
     "output_type": "display_data"
    }
   ],
   "source": [
    "from sklearn.ensemble import AdaBoostClassifier\n",
    "# define the model\n",
    "abc = AdaBoostClassifier(n_estimators=50,\n",
    "                         learning_rate=1)\n",
    "\n",
    "# train the model\n",
    "abc_result = abc.fit(x_train, y_train)\n",
    "\n",
    "# prediction\n",
    "abc_predicted = abc.predict(_X_test)\n",
    "abc_predicted_proba = abc_result.predict_proba(_X_test)\n",
    "abc_predicted_proba = [i[1] for i in abc_predicted_proba]\n",
    "\n",
    "# confusion matrix\n",
    "abc_conf_mat = confusion_matrix(y_true = _y_test, y_pred = abc_predicted)\n",
    "print(\"New Random Forest Confusion Matrix:\")\n",
    "print(abc_conf_mat)\n",
    "print('\\n\\n')\n",
    "# display confusion matrix heatmap\n",
    "confusion_matrix_heatmap(abc_conf_mat)\n",
    "\n",
    "print('\\n\\n')\n",
    "\n",
    "# Evaluation\n",
    "abc_accuracy = accuracy_score(y_true = _y_test, y_pred = abc_predicted)\n",
    "abc_fscore = f1_score(y_true = _y_test, y_pred = new_rf_predicted)\n",
    "abc_roc_auc = roc_auc_score(y_true = _y_test, y_score = abc_predicted_proba)\n",
    "print(\"New Random Forest Accuracy:\", round(abc_accuracy,3))\n",
    "print(\"New Random Forest F-Score:\", round(abc_fscore, 3))\n",
    "print(\"New Random Forest AUC:\", round(abc_roc_auc, 3))\n",
    "print('\\n\\n')\n",
    "# display ROC curve\n",
    "auc_visualization(_y_test, abc_predicted_proba)"
   ]
  },
  {
   "cell_type": "code",
   "execution_count": 90,
   "id": "be13bfb5",
   "metadata": {},
   "outputs": [
    {
     "name": "stdout",
     "output_type": "stream",
     "text": [
      "              precision    recall  f1-score   support\n",
      "\n",
      "           0       0.97      0.94      0.96      1523\n",
      "           1       0.76      0.88      0.81       325\n",
      "\n",
      "    accuracy                           0.93      1848\n",
      "   macro avg       0.86      0.91      0.89      1848\n",
      "weighted avg       0.94      0.93      0.93      1848\n",
      "\n"
     ]
    }
   ],
   "source": [
    "from sklearn.metrics import classification_report\n",
    "print(classification_report(_y_test,abc_predicted))"
   ]
  },
  {
   "cell_type": "code",
   "execution_count": 92,
   "id": "581da759",
   "metadata": {
    "scrolled": true
   },
   "outputs": [],
   "source": [
    "from mlxtend.feature_selection import SequentialFeatureSelector as sfs"
   ]
  },
  {
   "cell_type": "code",
   "execution_count": 93,
   "id": "821dab81",
   "metadata": {},
   "outputs": [],
   "source": [
    "#!pip install mlxtend \n",
    "from mlxtend.feature_selection import SequentialFeatureSelector as sfs"
   ]
  },
  {
   "cell_type": "code",
   "execution_count": 94,
   "id": "26b5e4c8",
   "metadata": {},
   "outputs": [
    {
     "name": "stderr",
     "output_type": "stream",
     "text": [
      "[Parallel(n_jobs=1)]: Using backend SequentialBackend with 1 concurrent workers.\n",
      "[Parallel(n_jobs=1)]: Done   1 out of   1 | elapsed:    0.0s remaining:    0.0s\n",
      "[Parallel(n_jobs=1)]: Done  20 out of  20 | elapsed:    0.5s finished\n",
      "\n",
      "[2022-04-17 17:42:51] Features: 1/10 -- score: 0.7831951561633728[Parallel(n_jobs=1)]: Using backend SequentialBackend with 1 concurrent workers.\n",
      "[Parallel(n_jobs=1)]: Done   1 out of   1 | elapsed:    0.0s remaining:    0.0s\n",
      "[Parallel(n_jobs=1)]: Done  19 out of  19 | elapsed:    0.6s finished\n",
      "\n",
      "[2022-04-17 17:42:52] Features: 2/10 -- score: 0.8175791050131904[Parallel(n_jobs=1)]: Using backend SequentialBackend with 1 concurrent workers.\n",
      "[Parallel(n_jobs=1)]: Done   1 out of   1 | elapsed:    0.0s remaining:    0.0s\n",
      "[Parallel(n_jobs=1)]: Done  18 out of  18 | elapsed:    0.7s finished\n",
      "\n",
      "[2022-04-17 17:42:52] Features: 3/10 -- score: 0.8323499858451011[Parallel(n_jobs=1)]: Using backend SequentialBackend with 1 concurrent workers.\n",
      "[Parallel(n_jobs=1)]: Done   1 out of   1 | elapsed:    0.0s remaining:    0.0s\n",
      "[Parallel(n_jobs=1)]: Done  17 out of  17 | elapsed:    0.8s finished\n",
      "\n",
      "[2022-04-17 17:42:53] Features: 4/10 -- score: 0.8461368908302175[Parallel(n_jobs=1)]: Using backend SequentialBackend with 1 concurrent workers.\n",
      "[Parallel(n_jobs=1)]: Done   1 out of   1 | elapsed:    0.0s remaining:    0.0s\n",
      "[Parallel(n_jobs=1)]: Done  16 out of  16 | elapsed:    0.8s finished\n",
      "\n",
      "[2022-04-17 17:42:54] Features: 5/10 -- score: 0.8591026433810448[Parallel(n_jobs=1)]: Using backend SequentialBackend with 1 concurrent workers.\n",
      "[Parallel(n_jobs=1)]: Done   1 out of   1 | elapsed:    0.0s remaining:    0.0s\n",
      "[Parallel(n_jobs=1)]: Done  15 out of  15 | elapsed:    0.9s finished\n",
      "\n",
      "[2022-04-17 17:42:55] Features: 6/10 -- score: 0.8647642998980377[Parallel(n_jobs=1)]: Using backend SequentialBackend with 1 concurrent workers.\n",
      "[Parallel(n_jobs=1)]: Done   1 out of   1 | elapsed:    0.0s remaining:    0.0s\n",
      "[Parallel(n_jobs=1)]: Done  14 out of  14 | elapsed:    0.9s finished\n",
      "\n",
      "[2022-04-17 17:42:56] Features: 7/10 -- score: 0.8723141290125603[Parallel(n_jobs=1)]: Using backend SequentialBackend with 1 concurrent workers.\n",
      "[Parallel(n_jobs=1)]: Done   1 out of   1 | elapsed:    0.0s remaining:    0.0s\n",
      "[Parallel(n_jobs=1)]: Done  13 out of  13 | elapsed:    1.0s finished\n",
      "\n",
      "[2022-04-17 17:42:57] Features: 8/10 -- score: 0.8763350627780697[Parallel(n_jobs=1)]: Using backend SequentialBackend with 1 concurrent workers.\n",
      "[Parallel(n_jobs=1)]: Done   1 out of   1 | elapsed:    0.0s remaining:    0.0s\n",
      "[Parallel(n_jobs=1)]: Done  12 out of  12 | elapsed:    1.0s finished\n",
      "\n",
      "[2022-04-17 17:42:59] Features: 9/10 -- score: 0.879207446856855[Parallel(n_jobs=1)]: Using backend SequentialBackend with 1 concurrent workers.\n",
      "[Parallel(n_jobs=1)]: Done   1 out of   1 | elapsed:    0.0s remaining:    0.0s\n",
      "[Parallel(n_jobs=1)]: Done  11 out of  11 | elapsed:    1.1s finished\n",
      "\n",
      "[2022-04-17 17:43:00] Features: 10/10 -- score: 0.8806025375138476"
     ]
    }
   ],
   "source": [
    "# Build RF classifier to use in feature selection\n",
    "lg_model = LogisticRegression(solver='liblinear', random_state=0)\n",
    "\n",
    "# Build step forward feature selection\n",
    "sfs1 = sfs(lg_model,\n",
    "           k_features=10,\n",
    "           forward=True,\n",
    "           floating=False,\n",
    "           verbose=2,\n",
    "           scoring='accuracy',\n",
    "           cv=5)\n",
    "\n",
    "# Perform SFFS\n",
    "sfs1 = sfs1.fit(x_train, y_train)"
   ]
  },
  {
   "cell_type": "code",
   "execution_count": 95,
   "id": "dc010f9a",
   "metadata": {},
   "outputs": [
    {
     "name": "stdout",
     "output_type": "stream",
     "text": [
      "[4, 6, 7, 8, 10, 11, 12, 13, 14, 16]\n"
     ]
    }
   ],
   "source": [
    "# Which features?\n",
    "feat_cols = list(sfs1.k_feature_idx_)\n",
    "print(feat_cols)"
   ]
  },
  {
   "cell_type": "code",
   "execution_count": 96,
   "id": "53a017d2",
   "metadata": {},
   "outputs": [
    {
     "name": "stdout",
     "output_type": "stream",
     "text": [
      "['Card_Category', 'Total_Relationship_Count', 'Months_Inactive_12_mon', 'Contacts_Count_12_mon', 'Total_Revolving_Bal', 'Total_Amt_Chng_Q4_Q1', 'Total_Trans_Amt', 'Total_Trans_Ct', 'Total_Ct_Chng_Q4_Q1', 'Gender_M']\n"
     ]
    }
   ],
   "source": [
    "# Which features?\n",
    "feat_cols = list(sfs1.k_feature_names_)\n",
    "print(feat_cols)"
   ]
  },
  {
   "cell_type": "code",
   "execution_count": 97,
   "id": "a06f2587",
   "metadata": {},
   "outputs": [],
   "source": [
    "x = x_train[feat_cols]\n",
    "xtest = _X_test[feat_cols]"
   ]
  },
  {
   "cell_type": "code",
   "execution_count": 98,
   "id": "87ca1b11",
   "metadata": {
    "scrolled": true
   },
   "outputs": [],
   "source": [
    "xyz = LogisticRegression(solver='liblinear', random_state=0)\n",
    "xyz_result=xyz.fit(x, y_train)"
   ]
  },
  {
   "cell_type": "code",
   "execution_count": 99,
   "id": "93ec1d2e",
   "metadata": {},
   "outputs": [
    {
     "name": "stdout",
     "output_type": "stream",
     "text": [
      "Logistic Regression Confusion Matrix:\n",
      "[[1315  208]\n",
      " [  60  265]]\n",
      "\n",
      "\n",
      "\n"
     ]
    },
    {
     "data": {
      "image/png": "[encoded data removed]",
      "text/plain": [
       "<Figure size 504x360 with 2 Axes>"
      ]
     },
     "metadata": {
      "needs_background": "light"
     },
     "output_type": "display_data"
    },
    {
     "name": "stdout",
     "output_type": "stream",
     "text": [
      "\n",
      "\n",
      "\n",
      "Logistic Regression Accuracy: 0.855\n",
      "Logistic Regression F-Score: 0.664\n",
      "Logistic Regression AUC: 0.918\n",
      "\n",
      "\n",
      "\n"
     ]
    },
    {
     "data": {
      "image/png": "[encoded data removed]",
      "text/plain": [
       "<Figure size 504x360 with 1 Axes>"
      ]
     },
     "metadata": {
      "needs_background": "light"
     },
     "output_type": "display_data"
    }
   ],
   "source": [
    "# prediction\n",
    "xyz_predicted =xyz_result.predict(xtest)\n",
    "xyz_predicted_proba = xyz_result.predict_proba(xtest)\n",
    "xyz_predicted_proba = [i[1] for i in xyz_predicted_proba]\n",
    "\n",
    "# confusion matrix\n",
    "xyz_conf_mat = confusion_matrix(y_true = _y_test, y_pred = xyz_predicted)\n",
    "print(\"Logistic Regression Confusion Matrix:\")\n",
    "print(xyz_conf_mat)\n",
    "print('\\n\\n')\n",
    "# display confusion matrix heatmap\n",
    "confusion_matrix_heatmap(xyz_conf_mat)\n",
    "\n",
    "print('\\n\\n')\n",
    "\n",
    "# Evaluation\n",
    "xyz_accuracy = accuracy_score(y_true = _y_test, y_pred = xyz_predicted)\n",
    "xyz_fscore = f1_score(y_true = _y_test, y_pred = xyz_predicted)\n",
    "xyz_roc_auc = roc_auc_score(y_true = _y_test, y_score = xyz_predicted_proba)\n",
    "print(\"Logistic Regression Accuracy:\", round(xyz_accuracy,3))\n",
    "print(\"Logistic Regression F-Score:\", round(xyz_fscore, 3))\n",
    "print(\"Logistic Regression AUC:\", round(xyz_roc_auc, 3))\n",
    "print('\\n\\n')\n",
    "# display ROC curve\n",
    "auc_visualization(_y_test, xyz_predicted_proba)"
   ]
  },
  {
   "cell_type": "code",
   "execution_count": 100,
   "id": "5be6c5e9",
   "metadata": {},
   "outputs": [
    {
     "name": "stdout",
     "output_type": "stream",
     "text": [
      "              precision    recall  f1-score   support\n",
      "\n",
      "           0       0.96      0.86      0.91      1523\n",
      "           1       0.56      0.82      0.66       325\n",
      "\n",
      "    accuracy                           0.85      1848\n",
      "   macro avg       0.76      0.84      0.79      1848\n",
      "weighted avg       0.89      0.85      0.86      1848\n",
      "\n"
     ]
    }
   ],
   "source": [
    "from sklearn.metrics import classification_report\n",
    "print(classification_report(_y_test,xyz_predicted))"
   ]
  },
  {
   "cell_type": "code",
   "execution_count": 101,
   "id": "c8350ee4",
   "metadata": {},
   "outputs": [
    {
     "name": "stdout",
     "output_type": "stream",
     "text": [
      "Training Accuracy:  0.8816674872804858\n",
      "Testing Accuracy:  0.854978354978355\n"
     ]
    }
   ],
   "source": [
    "print(\"Training Accuracy: \", xyz.score(x,y_train))\n",
    "print(\"Testing Accuracy: \", xyz.score(xtest, _y_test))"
   ]
  },
  {
   "cell_type": "code",
   "execution_count": null,
   "id": "3e5660ea",
   "metadata": {},
   "outputs": [],
   "source": []
  },
  {
   "cell_type": "code",
   "execution_count": null,
   "id": "6cfbbeea",
   "metadata": {},
   "outputs": [],
   "source": []
  }
 ],
 "metadata": {
  "kernelspec": {
   "display_name": "Python 3 (ipykernel)",
   "language": "python",
   "name": "python3"
  },
  "language_info": {
   "codemirror_mode": {
    "name": "ipython",
    "version": 3
   },
   "file_extension": ".py",
   "mimetype": "text/x-python",
   "name": "python",
   "nbconvert_exporter": "python",
   "pygments_lexer": "ipython3",
   "version": "3.9.7"
  }
 },
 "nbformat": 4,
 "nbformat_minor": 5
}
